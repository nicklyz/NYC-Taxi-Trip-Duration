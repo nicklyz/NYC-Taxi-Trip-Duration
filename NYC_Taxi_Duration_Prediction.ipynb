{
 "cells": [
  {
   "cell_type": "markdown",
   "metadata": {},
   "source": [
    "# NYC Taxi Duration Prediction\n",
    "In this competition, Kaggle is challenging you to build a model that predicts the total ride duration of taxi trips in New York City. Your primary dataset is one released by the NYC Taxi and Limousine Commission, which includes pickup time, geo-coordinates, number of passengers, and several other variables. http://www.nyc.gov/html/tlc/html/about/trip_record_data.shtml\n",
    "\n"
   ]
  },
  {
   "cell_type": "markdown",
   "metadata": {},
   "source": [
    "## 1. Data Exploration\n",
    "In this section, I would explore the different characteristics of this datasets and use data visualization to better understand the underlying pattern of the dataset. "
   ]
  },
  {
   "cell_type": "markdown",
   "metadata": {},
   "source": [
    "First we need to import the necessary Python libraries."
   ]
  },
  {
   "cell_type": "code",
   "execution_count": 1,
   "metadata": {},
   "outputs": [],
   "source": [
    "import pandas as pd  #pandas for using dataframe and reading csv \n",
    "import numpy as np   #numpy for vector operations and basic maths \n",
    "#import simplejson    #getting JSON in simplified format\n",
    "import urllib        #for url stuff\n",
    "#import gmaps       #for using google maps to visulalize places on maps\n",
    "import re            #for processing regular expressions\n",
    "import datetime      #for datetime operations\n",
    "import calendar      #for calendar for datetime operations\n",
    "import time          #to get the system time\n",
    "import scipy         #for other dependancies\n",
    "from sklearn.cluster import KMeans # for doing K-means clustering\n",
    "from haversine import haversine # for calculating haversine distance\n",
    "import math          #for basic maths operations\n",
    "import seaborn as sns #for making plots\n",
    "import matplotlib.pyplot as plt # for plotting\n",
    "import os  # for os commands\n",
    "# from scipy.misc import imread, imresize, imsave  # for plots \n",
    "# import plotly.plotly as py\n",
    "# import plotly.graph_objs as go\n",
    "# import plotly\n",
    "# from bokeh.palettes import Spectral4\n",
    "# from bokeh.plotting import figure, output_notebook, show\n",
    "from IPython.display import HTML\n",
    "from matplotlib.pyplot import *\n",
    "from matplotlib import cm\n",
    "from matplotlib import animation\n",
    "import io\n",
    "import base64\n",
    "# output_notebook()\n",
    "# plotly.offline.init_notebook_mode() # run at the start of every ipython notebook\n",
    "# plt.rcParams['figure.figsize'] = [16, 10]"
   ]
  },
  {
   "cell_type": "markdown",
   "metadata": {},
   "source": [
    "The next step is to import data set from Kaggle.com using Pandas and preview the training dataset."
   ]
  },
  {
   "cell_type": "code",
   "execution_count": 2,
   "metadata": {
    "scrolled": true
   },
   "outputs": [
    {
     "data": {
      "text/html": [
       "<div>\n",
       "<style scoped>\n",
       "    .dataframe tbody tr th:only-of-type {\n",
       "        vertical-align: middle;\n",
       "    }\n",
       "\n",
       "    .dataframe tbody tr th {\n",
       "        vertical-align: top;\n",
       "    }\n",
       "\n",
       "    .dataframe thead th {\n",
       "        text-align: right;\n",
       "    }\n",
       "</style>\n",
       "<table border=\"1\" class=\"dataframe\">\n",
       "  <thead>\n",
       "    <tr style=\"text-align: right;\">\n",
       "      <th></th>\n",
       "      <th>id</th>\n",
       "      <th>vendor_id</th>\n",
       "      <th>pickup_datetime</th>\n",
       "      <th>dropoff_datetime</th>\n",
       "      <th>passenger_count</th>\n",
       "      <th>pickup_longitude</th>\n",
       "      <th>pickup_latitude</th>\n",
       "      <th>dropoff_longitude</th>\n",
       "      <th>dropoff_latitude</th>\n",
       "      <th>store_and_fwd_flag</th>\n",
       "      <th>trip_duration</th>\n",
       "    </tr>\n",
       "  </thead>\n",
       "  <tbody>\n",
       "    <tr>\n",
       "      <th>0</th>\n",
       "      <td>id2875421</td>\n",
       "      <td>2</td>\n",
       "      <td>2016-03-14 17:24:55</td>\n",
       "      <td>2016-03-14 17:32:30</td>\n",
       "      <td>1</td>\n",
       "      <td>-73.982155</td>\n",
       "      <td>40.767937</td>\n",
       "      <td>-73.964630</td>\n",
       "      <td>40.765602</td>\n",
       "      <td>N</td>\n",
       "      <td>455</td>\n",
       "    </tr>\n",
       "    <tr>\n",
       "      <th>1</th>\n",
       "      <td>id2377394</td>\n",
       "      <td>1</td>\n",
       "      <td>2016-06-12 00:43:35</td>\n",
       "      <td>2016-06-12 00:54:38</td>\n",
       "      <td>1</td>\n",
       "      <td>-73.980415</td>\n",
       "      <td>40.738564</td>\n",
       "      <td>-73.999481</td>\n",
       "      <td>40.731152</td>\n",
       "      <td>N</td>\n",
       "      <td>663</td>\n",
       "    </tr>\n",
       "    <tr>\n",
       "      <th>2</th>\n",
       "      <td>id3858529</td>\n",
       "      <td>2</td>\n",
       "      <td>2016-01-19 11:35:24</td>\n",
       "      <td>2016-01-19 12:10:48</td>\n",
       "      <td>1</td>\n",
       "      <td>-73.979027</td>\n",
       "      <td>40.763939</td>\n",
       "      <td>-74.005333</td>\n",
       "      <td>40.710087</td>\n",
       "      <td>N</td>\n",
       "      <td>2124</td>\n",
       "    </tr>\n",
       "    <tr>\n",
       "      <th>3</th>\n",
       "      <td>id3504673</td>\n",
       "      <td>2</td>\n",
       "      <td>2016-04-06 19:32:31</td>\n",
       "      <td>2016-04-06 19:39:40</td>\n",
       "      <td>1</td>\n",
       "      <td>-74.010040</td>\n",
       "      <td>40.719971</td>\n",
       "      <td>-74.012268</td>\n",
       "      <td>40.706718</td>\n",
       "      <td>N</td>\n",
       "      <td>429</td>\n",
       "    </tr>\n",
       "    <tr>\n",
       "      <th>4</th>\n",
       "      <td>id2181028</td>\n",
       "      <td>2</td>\n",
       "      <td>2016-03-26 13:30:55</td>\n",
       "      <td>2016-03-26 13:38:10</td>\n",
       "      <td>1</td>\n",
       "      <td>-73.973053</td>\n",
       "      <td>40.793209</td>\n",
       "      <td>-73.972923</td>\n",
       "      <td>40.782520</td>\n",
       "      <td>N</td>\n",
       "      <td>435</td>\n",
       "    </tr>\n",
       "  </tbody>\n",
       "</table>\n",
       "</div>"
      ],
      "text/plain": [
       "          id  vendor_id      pickup_datetime     dropoff_datetime  \\\n",
       "0  id2875421          2  2016-03-14 17:24:55  2016-03-14 17:32:30   \n",
       "1  id2377394          1  2016-06-12 00:43:35  2016-06-12 00:54:38   \n",
       "2  id3858529          2  2016-01-19 11:35:24  2016-01-19 12:10:48   \n",
       "3  id3504673          2  2016-04-06 19:32:31  2016-04-06 19:39:40   \n",
       "4  id2181028          2  2016-03-26 13:30:55  2016-03-26 13:38:10   \n",
       "\n",
       "   passenger_count  pickup_longitude  pickup_latitude  dropoff_longitude  \\\n",
       "0                1        -73.982155        40.767937         -73.964630   \n",
       "1                1        -73.980415        40.738564         -73.999481   \n",
       "2                1        -73.979027        40.763939         -74.005333   \n",
       "3                1        -74.010040        40.719971         -74.012268   \n",
       "4                1        -73.973053        40.793209         -73.972923   \n",
       "\n",
       "   dropoff_latitude store_and_fwd_flag  trip_duration  \n",
       "0         40.765602                  N            455  \n",
       "1         40.731152                  N            663  \n",
       "2         40.710087                  N           2124  \n",
       "3         40.706718                  N            429  \n",
       "4         40.782520                  N            435  "
      ]
     },
     "execution_count": 2,
     "metadata": {},
     "output_type": "execute_result"
    }
   ],
   "source": [
    "train_df = pd.read_csv('./data/train.csv')\n",
    "test_df = pd.read_csv('./data/test.csv')\n",
    "sample_submission = pd.read_csv('./data/sample_submission.csv')\n",
    "train_df.head()"
   ]
  },
  {
   "cell_type": "markdown",
   "metadata": {},
   "source": [
    "Data Field Description:\n",
    "* **id** - a unique identifier for each trip\n",
    "* **vendor_id** - a code indicating the provider associated with the trip record\n",
    "* **pickup_datetime** - date and time when the meter was engaged\n",
    "* **dropoff_datetime** - date and time when the meter was disengaged\n",
    "* **passenger_count** - the number of passengers in the vehicle (driver entered value)\n",
    "* **pickup_longitude** - the longitude where the meter was engaged\n",
    "* **pickup_latitude** - the latitude where the meter was engaged\n",
    "* **dropoff_longitude** - the longitude where the meter was disengaged\n",
    "* **dropoff_latitude** - the latitude where the meter was disengaged\n",
    "* **store_and_fwd_flag** - This flag indicates whether the trip record was held in vehicle memory before sending to the * vendor because the vehicle did not have a connection to the server - Y=store and forward; N=not a store and forward trip\n",
    "* **trip_duration** - duration of the trip in seconds"
   ]
  },
  {
   "cell_type": "code",
   "execution_count": 3,
   "metadata": {},
   "outputs": [
    {
     "data": {
      "text/html": [
       "<div>\n",
       "<style scoped>\n",
       "    .dataframe tbody tr th:only-of-type {\n",
       "        vertical-align: middle;\n",
       "    }\n",
       "\n",
       "    .dataframe tbody tr th {\n",
       "        vertical-align: top;\n",
       "    }\n",
       "\n",
       "    .dataframe thead th {\n",
       "        text-align: right;\n",
       "    }\n",
       "</style>\n",
       "<table border=\"1\" class=\"dataframe\">\n",
       "  <thead>\n",
       "    <tr style=\"text-align: right;\">\n",
       "      <th></th>\n",
       "      <th>vendor_id</th>\n",
       "      <th>passenger_count</th>\n",
       "      <th>pickup_longitude</th>\n",
       "      <th>pickup_latitude</th>\n",
       "      <th>dropoff_longitude</th>\n",
       "      <th>dropoff_latitude</th>\n",
       "      <th>trip_duration</th>\n",
       "    </tr>\n",
       "  </thead>\n",
       "  <tbody>\n",
       "    <tr>\n",
       "      <th>count</th>\n",
       "      <td>1458644.000</td>\n",
       "      <td>1458644.000</td>\n",
       "      <td>1458644.000</td>\n",
       "      <td>1458644.000</td>\n",
       "      <td>1458644.000</td>\n",
       "      <td>1458644.000</td>\n",
       "      <td>1458644.000</td>\n",
       "    </tr>\n",
       "    <tr>\n",
       "      <th>mean</th>\n",
       "      <td>1.535</td>\n",
       "      <td>1.665</td>\n",
       "      <td>-73.973</td>\n",
       "      <td>40.751</td>\n",
       "      <td>-73.973</td>\n",
       "      <td>40.752</td>\n",
       "      <td>959.492</td>\n",
       "    </tr>\n",
       "    <tr>\n",
       "      <th>std</th>\n",
       "      <td>0.499</td>\n",
       "      <td>1.314</td>\n",
       "      <td>0.071</td>\n",
       "      <td>0.033</td>\n",
       "      <td>0.071</td>\n",
       "      <td>0.036</td>\n",
       "      <td>5237.432</td>\n",
       "    </tr>\n",
       "    <tr>\n",
       "      <th>min</th>\n",
       "      <td>1.000</td>\n",
       "      <td>0.000</td>\n",
       "      <td>-121.933</td>\n",
       "      <td>34.360</td>\n",
       "      <td>-121.933</td>\n",
       "      <td>32.181</td>\n",
       "      <td>1.000</td>\n",
       "    </tr>\n",
       "    <tr>\n",
       "      <th>25%</th>\n",
       "      <td>1.000</td>\n",
       "      <td>1.000</td>\n",
       "      <td>-73.992</td>\n",
       "      <td>40.737</td>\n",
       "      <td>-73.991</td>\n",
       "      <td>40.736</td>\n",
       "      <td>397.000</td>\n",
       "    </tr>\n",
       "    <tr>\n",
       "      <th>50%</th>\n",
       "      <td>2.000</td>\n",
       "      <td>1.000</td>\n",
       "      <td>-73.982</td>\n",
       "      <td>40.754</td>\n",
       "      <td>-73.980</td>\n",
       "      <td>40.755</td>\n",
       "      <td>662.000</td>\n",
       "    </tr>\n",
       "    <tr>\n",
       "      <th>75%</th>\n",
       "      <td>2.000</td>\n",
       "      <td>2.000</td>\n",
       "      <td>-73.967</td>\n",
       "      <td>40.768</td>\n",
       "      <td>-73.963</td>\n",
       "      <td>40.770</td>\n",
       "      <td>1075.000</td>\n",
       "    </tr>\n",
       "    <tr>\n",
       "      <th>max</th>\n",
       "      <td>2.000</td>\n",
       "      <td>9.000</td>\n",
       "      <td>-61.336</td>\n",
       "      <td>51.881</td>\n",
       "      <td>-61.336</td>\n",
       "      <td>43.921</td>\n",
       "      <td>3526282.000</td>\n",
       "    </tr>\n",
       "  </tbody>\n",
       "</table>\n",
       "</div>"
      ],
      "text/plain": [
       "        vendor_id  passenger_count  pickup_longitude  pickup_latitude  \\\n",
       "count 1458644.000      1458644.000       1458644.000      1458644.000   \n",
       "mean        1.535            1.665           -73.973           40.751   \n",
       "std         0.499            1.314             0.071            0.033   \n",
       "min         1.000            0.000          -121.933           34.360   \n",
       "25%         1.000            1.000           -73.992           40.737   \n",
       "50%         2.000            1.000           -73.982           40.754   \n",
       "75%         2.000            2.000           -73.967           40.768   \n",
       "max         2.000            9.000           -61.336           51.881   \n",
       "\n",
       "       dropoff_longitude  dropoff_latitude  trip_duration  \n",
       "count        1458644.000       1458644.000    1458644.000  \n",
       "mean             -73.973            40.752        959.492  \n",
       "std                0.071             0.036       5237.432  \n",
       "min             -121.933            32.181          1.000  \n",
       "25%              -73.991            40.736        397.000  \n",
       "50%              -73.980            40.755        662.000  \n",
       "75%              -73.963            40.770       1075.000  \n",
       "max              -61.336            43.921    3526282.000  "
      ]
     },
     "execution_count": 3,
     "metadata": {},
     "output_type": "execute_result"
    }
   ],
   "source": [
    "pd.set_option('display.float_format', lambda x: '%.3f' % x)\n",
    "train_df.describe()"
   ]
  },
  {
   "cell_type": "markdown",
   "metadata": {},
   "source": [
    "From this data summary we can understand some basic statistics of the data. In the 'trip_duration' column, we can see a minimum of 1 second and a maximum of 3526282 second (about 90 hours). Clearly we should not include trip like these since it will decrease our prediction model's accuracy. In the next section, I will attempt to remove these outliers to improve the quality of the dataset."
   ]
  },
  {
   "cell_type": "markdown",
   "metadata": {},
   "source": [
    "We also need to check whether this dataset is valid by checking if the IDs are unique."
   ]
  },
  {
   "cell_type": "code",
   "execution_count": 4,
   "metadata": {},
   "outputs": [
    {
     "name": "stdout",
     "output_type": "stream",
     "text": [
      "Number of columns and rows and columns are 11 and 1458644 respectively.\n",
      "Train ids are unique\n",
      "Number of Nulls: 0.\n"
     ]
    }
   ],
   "source": [
    "# checking if Ids are unique, \n",
    "train_data = train_df.copy()\n",
    "print(\"Number of columns and rows and columns are {} and {} respectively.\".format(train_data.shape[1], train_data.shape[0]))\n",
    "if train_data.id.nunique() == train_data.shape[0]:\n",
    "    print(\"Train ids are unique\")\n",
    "print(\"Number of Nulls: {}.\".format(train_data.isnull().sum().sum()))\n",
    "end = time.time()"
   ]
  },
  {
   "cell_type": "code",
   "execution_count": 5,
   "metadata": {},
   "outputs": [
    {
     "name": "stdout",
     "output_type": "stream",
     "text": [
      "<class 'pandas.core.frame.DataFrame'>\n",
      "RangeIndex: 1458644 entries, 0 to 1458643\n",
      "Data columns (total 11 columns):\n",
      "id                    1458644 non-null object\n",
      "vendor_id             1458644 non-null int64\n",
      "pickup_datetime       1458644 non-null object\n",
      "dropoff_datetime      1458644 non-null object\n",
      "passenger_count       1458644 non-null int64\n",
      "pickup_longitude      1458644 non-null float64\n",
      "pickup_latitude       1458644 non-null float64\n",
      "dropoff_longitude     1458644 non-null float64\n",
      "dropoff_latitude      1458644 non-null float64\n",
      "store_and_fwd_flag    1458644 non-null object\n",
      "trip_duration         1458644 non-null int64\n",
      "dtypes: float64(4), int64(3), object(4)\n",
      "memory usage: 122.4+ MB\n"
     ]
    }
   ],
   "source": [
    "train_df.info()"
   ]
  },
  {
   "cell_type": "markdown",
   "metadata": {},
   "source": [
    "## 2. Data Preparation\n",
    "In this section I will clean up the dataset, expand the features, and incorporate weather data.\n"
   ]
  },
  {
   "cell_type": "code",
   "execution_count": 6,
   "metadata": {},
   "outputs": [],
   "source": [
    "train = train_df.copy()\n",
    "test = test_df.copy()"
   ]
  },
  {
   "cell_type": "markdown",
   "metadata": {},
   "source": [
    "### 2.1 Data Cleaning\n",
    "From previous section we learn that some trips are 1 sec and some trips are as long as 90 hours. Obviously we want to exclude these outliers before feeding them into the training algorithm. In order to remove those trips, I decided to remove any trips that is 2 standard deviations from the mean."
   ]
  },
  {
   "cell_type": "code",
   "execution_count": 7,
   "metadata": {},
   "outputs": [
    {
     "name": "stdout",
     "output_type": "stream",
     "text": [
      "mean:  959.4922729603659\n",
      "std:  5237.429929188888\n",
      "1458644\n",
      "1456540\n"
     ]
    }
   ],
   "source": [
    "m = np.mean(train['trip_duration'])\n",
    "s = np.std(train['trip_duration'])\n",
    "print('mean: ', m)\n",
    "print('std: ', s)\n",
    "print(len(train['trip_duration']))\n",
    "train = train[train['trip_duration'] <= m + 2 * s]\n",
    "train = train[train['trip_duration'] >= m - 2 * s]\n",
    "print(len(train['trip_duration']))"
   ]
  },
  {
   "cell_type": "markdown",
   "metadata": {},
   "source": [
    "We also need to remove trips that are going in and out of New York City, since we are only concerned with the trips within the city boundary. The NYC city borders are:\n",
    "\n",
    "```\n",
    "long_border = (-74.04, -73.75)\n",
    "lat_border = (40.63, 40.85)\n",
    "```\n",
    "\n",
    "From previous section we can see that some trip's pick ups or drop offs are outside of the city zone. We will remove these trips."
   ]
  },
  {
   "cell_type": "code",
   "execution_count": 8,
   "metadata": {},
   "outputs": [
    {
     "name": "stdout",
     "output_type": "stream",
     "text": [
      "1437693\n"
     ]
    }
   ],
   "source": [
    "long_border = (-74.04, -73.75)\n",
    "lat_border = (40.63, 40.85)\n",
    "train = train[train['pickup_longitude'] >= long_border[0]]\n",
    "train = train[train['pickup_longitude'] <= long_border[1]]\n",
    "\n",
    "train = train[train['pickup_latitude'] >= lat_border[0]]\n",
    "train = train[train['pickup_latitude'] <= lat_border[1]]\n",
    "\n",
    "train = train[train['dropoff_longitude'] >= long_border[0]]\n",
    "train = train[train['dropoff_longitude'] <= long_border[1]]\n",
    "\n",
    "train = train[train['dropoff_latitude'] >= lat_border[0]]\n",
    "train = train[train['dropoff_latitude'] <= lat_border[1]]\n",
    "\n",
    "print(len(train))"
   ]
  },
  {
   "cell_type": "markdown",
   "metadata": {},
   "source": [
    "### 2.2 Feature Extraction\n",
    "There are several different ways to extract more features from this data set. I will describe each approach below."
   ]
  },
  {
   "cell_type": "markdown",
   "metadata": {},
   "source": [
    "#### 2.2.1 Pickup Datetime\n",
    "We can extract more information from the `pickup_datetime` feature from the origianl dataset. For example, we can extract the hour in day, the day in week, the date, the day in month, and the month, etc. "
   ]
  },
  {
   "cell_type": "code",
   "execution_count": 9,
   "metadata": {},
   "outputs": [
    {
     "data": {
      "text/html": [
       "<div>\n",
       "<style scoped>\n",
       "    .dataframe tbody tr th:only-of-type {\n",
       "        vertical-align: middle;\n",
       "    }\n",
       "\n",
       "    .dataframe tbody tr th {\n",
       "        vertical-align: top;\n",
       "    }\n",
       "\n",
       "    .dataframe thead th {\n",
       "        text-align: right;\n",
       "    }\n",
       "</style>\n",
       "<table border=\"1\" class=\"dataframe\">\n",
       "  <thead>\n",
       "    <tr style=\"text-align: right;\">\n",
       "      <th></th>\n",
       "      <th>id</th>\n",
       "      <th>vendor_id</th>\n",
       "      <th>pickup_datetime</th>\n",
       "      <th>dropoff_datetime</th>\n",
       "      <th>passenger_count</th>\n",
       "      <th>pickup_longitude</th>\n",
       "      <th>pickup_latitude</th>\n",
       "      <th>dropoff_longitude</th>\n",
       "      <th>dropoff_latitude</th>\n",
       "      <th>store_and_fwd_flag</th>\n",
       "      <th>trip_duration</th>\n",
       "      <th>hour</th>\n",
       "      <th>day_of_week</th>\n",
       "      <th>date</th>\n",
       "      <th>day_of_month</th>\n",
       "      <th>month</th>\n",
       "    </tr>\n",
       "  </thead>\n",
       "  <tbody>\n",
       "    <tr>\n",
       "      <th>0</th>\n",
       "      <td>id2875421</td>\n",
       "      <td>2</td>\n",
       "      <td>2016-03-14 17:24:55</td>\n",
       "      <td>2016-03-14 17:32:30</td>\n",
       "      <td>1</td>\n",
       "      <td>-73.982</td>\n",
       "      <td>40.768</td>\n",
       "      <td>-73.965</td>\n",
       "      <td>40.766</td>\n",
       "      <td>N</td>\n",
       "      <td>455</td>\n",
       "      <td>17</td>\n",
       "      <td>0</td>\n",
       "      <td>2016-03-14</td>\n",
       "      <td>14</td>\n",
       "      <td>3</td>\n",
       "    </tr>\n",
       "    <tr>\n",
       "      <th>1</th>\n",
       "      <td>id2377394</td>\n",
       "      <td>1</td>\n",
       "      <td>2016-06-12 00:43:35</td>\n",
       "      <td>2016-06-12 00:54:38</td>\n",
       "      <td>1</td>\n",
       "      <td>-73.980</td>\n",
       "      <td>40.739</td>\n",
       "      <td>-73.999</td>\n",
       "      <td>40.731</td>\n",
       "      <td>N</td>\n",
       "      <td>663</td>\n",
       "      <td>0</td>\n",
       "      <td>6</td>\n",
       "      <td>2016-06-12</td>\n",
       "      <td>12</td>\n",
       "      <td>6</td>\n",
       "    </tr>\n",
       "    <tr>\n",
       "      <th>2</th>\n",
       "      <td>id3858529</td>\n",
       "      <td>2</td>\n",
       "      <td>2016-01-19 11:35:24</td>\n",
       "      <td>2016-01-19 12:10:48</td>\n",
       "      <td>1</td>\n",
       "      <td>-73.979</td>\n",
       "      <td>40.764</td>\n",
       "      <td>-74.005</td>\n",
       "      <td>40.710</td>\n",
       "      <td>N</td>\n",
       "      <td>2124</td>\n",
       "      <td>11</td>\n",
       "      <td>1</td>\n",
       "      <td>2016-01-19</td>\n",
       "      <td>19</td>\n",
       "      <td>1</td>\n",
       "    </tr>\n",
       "    <tr>\n",
       "      <th>3</th>\n",
       "      <td>id3504673</td>\n",
       "      <td>2</td>\n",
       "      <td>2016-04-06 19:32:31</td>\n",
       "      <td>2016-04-06 19:39:40</td>\n",
       "      <td>1</td>\n",
       "      <td>-74.010</td>\n",
       "      <td>40.720</td>\n",
       "      <td>-74.012</td>\n",
       "      <td>40.707</td>\n",
       "      <td>N</td>\n",
       "      <td>429</td>\n",
       "      <td>19</td>\n",
       "      <td>2</td>\n",
       "      <td>2016-04-06</td>\n",
       "      <td>6</td>\n",
       "      <td>4</td>\n",
       "    </tr>\n",
       "    <tr>\n",
       "      <th>4</th>\n",
       "      <td>id2181028</td>\n",
       "      <td>2</td>\n",
       "      <td>2016-03-26 13:30:55</td>\n",
       "      <td>2016-03-26 13:38:10</td>\n",
       "      <td>1</td>\n",
       "      <td>-73.973</td>\n",
       "      <td>40.793</td>\n",
       "      <td>-73.973</td>\n",
       "      <td>40.783</td>\n",
       "      <td>N</td>\n",
       "      <td>435</td>\n",
       "      <td>13</td>\n",
       "      <td>5</td>\n",
       "      <td>2016-03-26</td>\n",
       "      <td>26</td>\n",
       "      <td>3</td>\n",
       "    </tr>\n",
       "  </tbody>\n",
       "</table>\n",
       "</div>"
      ],
      "text/plain": [
       "          id  vendor_id     pickup_datetime    dropoff_datetime  \\\n",
       "0  id2875421          2 2016-03-14 17:24:55 2016-03-14 17:32:30   \n",
       "1  id2377394          1 2016-06-12 00:43:35 2016-06-12 00:54:38   \n",
       "2  id3858529          2 2016-01-19 11:35:24 2016-01-19 12:10:48   \n",
       "3  id3504673          2 2016-04-06 19:32:31 2016-04-06 19:39:40   \n",
       "4  id2181028          2 2016-03-26 13:30:55 2016-03-26 13:38:10   \n",
       "\n",
       "   passenger_count  pickup_longitude  pickup_latitude  dropoff_longitude  \\\n",
       "0                1           -73.982           40.768            -73.965   \n",
       "1                1           -73.980           40.739            -73.999   \n",
       "2                1           -73.979           40.764            -74.005   \n",
       "3                1           -74.010           40.720            -74.012   \n",
       "4                1           -73.973           40.793            -73.973   \n",
       "\n",
       "   dropoff_latitude store_and_fwd_flag  trip_duration  hour  day_of_week  \\\n",
       "0            40.766                  N            455    17            0   \n",
       "1            40.731                  N            663     0            6   \n",
       "2            40.710                  N           2124    11            1   \n",
       "3            40.707                  N            429    19            2   \n",
       "4            40.783                  N            435    13            5   \n",
       "\n",
       "         date  day_of_month  month  \n",
       "0  2016-03-14            14      3  \n",
       "1  2016-06-12            12      6  \n",
       "2  2016-01-19            19      1  \n",
       "3  2016-04-06             6      4  \n",
       "4  2016-03-26            26      3  "
      ]
     },
     "execution_count": 9,
     "metadata": {},
     "output_type": "execute_result"
    }
   ],
   "source": [
    "# transform to pandas datetime\n",
    "train['pickup_datetime'] = pd.to_datetime(train.pickup_datetime)\n",
    "test['pickup_datetime'] = pd.to_datetime(test.pickup_datetime)\n",
    "\n",
    "# hour in day\n",
    "train.loc[:, 'hour'] = train['pickup_datetime'].dt.hour\n",
    "test.loc[:, 'hour'] = test['pickup_datetime'].dt.hour\n",
    "\n",
    "# day of week\n",
    "train.loc[:, 'day_of_week'] = train['pickup_datetime'].dt.dayofweek\n",
    "test.loc[:, 'day_of_week'] = test['pickup_datetime'].dt.dayofweek\n",
    "\n",
    "# date\n",
    "train.loc[:, 'date'] = train['pickup_datetime'].dt.date\n",
    "test.loc[:, 'date'] = test['pickup_datetime'].dt.date\n",
    "\n",
    "# # time in day\n",
    "# train.loc[:, 'time_of_day'] = train['pickup_datetime'].dt.time\n",
    "# test.loc[:, 'time_of_day'] = test['pickup_datetime'].dt.time\n",
    "\n",
    "# day of month\n",
    "train.loc[:, 'day_of_month'] = train['pickup_datetime'].dt.day\n",
    "test.loc[:, 'day_of_month'] = test['pickup_datetime'].dt.day\n",
    "\n",
    "# month\n",
    "train.loc[:, 'month'] = train['pickup_datetime'].dt.month\n",
    "test.loc[:, 'month'] = test['pickup_datetime'].dt.month\n",
    "\n",
    "train['dropoff_datetime'] = pd.to_datetime(train.dropoff_datetime)\n",
    "\n",
    "train.head()"
   ]
  },
  {
   "cell_type": "markdown",
   "metadata": {},
   "source": [
    "#### 2.2.2 Trip Distance\n",
    "We can also calculate the travel distance for each trip based on the pickup and dropoff coordinates. To compute the distance between two coordinates, we can compute the haversine distance. Since the majority of the trips will be within Manhattan area, we could also compute the Manhattan distance between the pickup and dropoff to better represent real-life travel distance."
   ]
  },
  {
   "cell_type": "code",
   "execution_count": 10,
   "metadata": {},
   "outputs": [],
   "source": [
    "def haversine_dist(lat1, lng1, lat2, lng2):\n",
    "    return haversine((lat1, lng1), (lat2, lng2))\n",
    "\n",
    "def manhattan_dist(lat1, lng1, lat2, lng2):\n",
    "    a = haversine_dist(lat1, lng1, lat1, lng2)\n",
    "    b = haversine_dist(lat1, lng1, lat2, lng1)\n",
    "    return a+b\n"
   ]
  },
  {
   "cell_type": "code",
   "execution_count": 11,
   "metadata": {},
   "outputs": [
    {
     "name": "stdout",
     "output_type": "stream",
     "text": [
      "34.574232315938104\n",
      "48.9357456227728\n"
     ]
    }
   ],
   "source": [
    "print(haversine_dist(40.63, -74.04, 40.85, -73.75))\n",
    "print(manhattan_dist(40.63, -74.04, 40.85, -73.75))"
   ]
  },
  {
   "cell_type": "code",
   "execution_count": 12,
   "metadata": {},
   "outputs": [
    {
     "data": {
      "text/html": [
       "<div>\n",
       "<style scoped>\n",
       "    .dataframe tbody tr th:only-of-type {\n",
       "        vertical-align: middle;\n",
       "    }\n",
       "\n",
       "    .dataframe tbody tr th {\n",
       "        vertical-align: top;\n",
       "    }\n",
       "\n",
       "    .dataframe thead th {\n",
       "        text-align: right;\n",
       "    }\n",
       "</style>\n",
       "<table border=\"1\" class=\"dataframe\">\n",
       "  <thead>\n",
       "    <tr style=\"text-align: right;\">\n",
       "      <th></th>\n",
       "      <th>id</th>\n",
       "      <th>vendor_id</th>\n",
       "      <th>pickup_datetime</th>\n",
       "      <th>dropoff_datetime</th>\n",
       "      <th>passenger_count</th>\n",
       "      <th>pickup_longitude</th>\n",
       "      <th>pickup_latitude</th>\n",
       "      <th>dropoff_longitude</th>\n",
       "      <th>dropoff_latitude</th>\n",
       "      <th>store_and_fwd_flag</th>\n",
       "      <th>trip_duration</th>\n",
       "      <th>hour</th>\n",
       "      <th>day_of_week</th>\n",
       "      <th>date</th>\n",
       "      <th>day_of_month</th>\n",
       "      <th>month</th>\n",
       "      <th>haversine_dist</th>\n",
       "      <th>manhattan_dist</th>\n",
       "    </tr>\n",
       "  </thead>\n",
       "  <tbody>\n",
       "    <tr>\n",
       "      <th>0</th>\n",
       "      <td>id2875421</td>\n",
       "      <td>2</td>\n",
       "      <td>2016-03-14 17:24:55</td>\n",
       "      <td>2016-03-14 17:32:30</td>\n",
       "      <td>1</td>\n",
       "      <td>-73.982</td>\n",
       "      <td>40.768</td>\n",
       "      <td>-73.965</td>\n",
       "      <td>40.766</td>\n",
       "      <td>N</td>\n",
       "      <td>455</td>\n",
       "      <td>17</td>\n",
       "      <td>0</td>\n",
       "      <td>2016-03-14</td>\n",
       "      <td>14</td>\n",
       "      <td>3</td>\n",
       "      <td>1.499</td>\n",
       "      <td>1.735</td>\n",
       "    </tr>\n",
       "    <tr>\n",
       "      <th>1</th>\n",
       "      <td>id2377394</td>\n",
       "      <td>1</td>\n",
       "      <td>2016-06-12 00:43:35</td>\n",
       "      <td>2016-06-12 00:54:38</td>\n",
       "      <td>1</td>\n",
       "      <td>-73.980</td>\n",
       "      <td>40.739</td>\n",
       "      <td>-73.999</td>\n",
       "      <td>40.731</td>\n",
       "      <td>N</td>\n",
       "      <td>663</td>\n",
       "      <td>0</td>\n",
       "      <td>6</td>\n",
       "      <td>2016-06-12</td>\n",
       "      <td>12</td>\n",
       "      <td>6</td>\n",
       "      <td>1.806</td>\n",
       "      <td>2.431</td>\n",
       "    </tr>\n",
       "    <tr>\n",
       "      <th>2</th>\n",
       "      <td>id3858529</td>\n",
       "      <td>2</td>\n",
       "      <td>2016-01-19 11:35:24</td>\n",
       "      <td>2016-01-19 12:10:48</td>\n",
       "      <td>1</td>\n",
       "      <td>-73.979</td>\n",
       "      <td>40.764</td>\n",
       "      <td>-74.005</td>\n",
       "      <td>40.710</td>\n",
       "      <td>N</td>\n",
       "      <td>2124</td>\n",
       "      <td>11</td>\n",
       "      <td>1</td>\n",
       "      <td>2016-01-19</td>\n",
       "      <td>19</td>\n",
       "      <td>1</td>\n",
       "      <td>6.385</td>\n",
       "      <td>8.204</td>\n",
       "    </tr>\n",
       "    <tr>\n",
       "      <th>3</th>\n",
       "      <td>id3504673</td>\n",
       "      <td>2</td>\n",
       "      <td>2016-04-06 19:32:31</td>\n",
       "      <td>2016-04-06 19:39:40</td>\n",
       "      <td>1</td>\n",
       "      <td>-74.010</td>\n",
       "      <td>40.720</td>\n",
       "      <td>-74.012</td>\n",
       "      <td>40.707</td>\n",
       "      <td>N</td>\n",
       "      <td>429</td>\n",
       "      <td>19</td>\n",
       "      <td>2</td>\n",
       "      <td>2016-04-06</td>\n",
       "      <td>6</td>\n",
       "      <td>4</td>\n",
       "      <td>1.485</td>\n",
       "      <td>1.661</td>\n",
       "    </tr>\n",
       "    <tr>\n",
       "      <th>4</th>\n",
       "      <td>id2181028</td>\n",
       "      <td>2</td>\n",
       "      <td>2016-03-26 13:30:55</td>\n",
       "      <td>2016-03-26 13:38:10</td>\n",
       "      <td>1</td>\n",
       "      <td>-73.973</td>\n",
       "      <td>40.793</td>\n",
       "      <td>-73.973</td>\n",
       "      <td>40.783</td>\n",
       "      <td>N</td>\n",
       "      <td>435</td>\n",
       "      <td>13</td>\n",
       "      <td>5</td>\n",
       "      <td>2016-03-26</td>\n",
       "      <td>26</td>\n",
       "      <td>3</td>\n",
       "      <td>1.189</td>\n",
       "      <td>1.199</td>\n",
       "    </tr>\n",
       "  </tbody>\n",
       "</table>\n",
       "</div>"
      ],
      "text/plain": [
       "          id  vendor_id     pickup_datetime    dropoff_datetime  \\\n",
       "0  id2875421          2 2016-03-14 17:24:55 2016-03-14 17:32:30   \n",
       "1  id2377394          1 2016-06-12 00:43:35 2016-06-12 00:54:38   \n",
       "2  id3858529          2 2016-01-19 11:35:24 2016-01-19 12:10:48   \n",
       "3  id3504673          2 2016-04-06 19:32:31 2016-04-06 19:39:40   \n",
       "4  id2181028          2 2016-03-26 13:30:55 2016-03-26 13:38:10   \n",
       "\n",
       "   passenger_count  pickup_longitude  pickup_latitude  dropoff_longitude  \\\n",
       "0                1           -73.982           40.768            -73.965   \n",
       "1                1           -73.980           40.739            -73.999   \n",
       "2                1           -73.979           40.764            -74.005   \n",
       "3                1           -74.010           40.720            -74.012   \n",
       "4                1           -73.973           40.793            -73.973   \n",
       "\n",
       "   dropoff_latitude store_and_fwd_flag  trip_duration  hour  day_of_week  \\\n",
       "0            40.766                  N            455    17            0   \n",
       "1            40.731                  N            663     0            6   \n",
       "2            40.710                  N           2124    11            1   \n",
       "3            40.707                  N            429    19            2   \n",
       "4            40.783                  N            435    13            5   \n",
       "\n",
       "         date  day_of_month  month  haversine_dist  manhattan_dist  \n",
       "0  2016-03-14            14      3           1.499           1.735  \n",
       "1  2016-06-12            12      6           1.806           2.431  \n",
       "2  2016-01-19            19      1           6.385           8.204  \n",
       "3  2016-04-06             6      4           1.485           1.661  \n",
       "4  2016-03-26            26      3           1.189           1.199  "
      ]
     },
     "execution_count": 12,
     "metadata": {},
     "output_type": "execute_result"
    }
   ],
   "source": [
    "haversine_array = np.vectorize(haversine_dist)\n",
    "manhattan_array = np.vectorize(manhattan_dist)\n",
    "train.loc[:, 'haversine_dist'] = haversine_array(train['pickup_latitude'].values, train['pickup_longitude'].values, train['dropoff_latitude'].values, train['dropoff_longitude'].values)\n",
    "train.loc[:, 'manhattan_dist'] = manhattan_array(train['pickup_latitude'].values, train['pickup_longitude'].values, train['dropoff_latitude'].values, train['dropoff_longitude'].values)\n",
    "test.loc[:, 'haversine_dist'] = haversine_array(test['pickup_latitude'].values, test['pickup_longitude'].values, test['dropoff_latitude'].values, test['dropoff_longitude'].values)\n",
    "test.loc[:, 'manhattan_dist'] = manhattan_array(test['pickup_latitude'].values, test['pickup_longitude'].values, test['dropoff_latitude'].values, test['dropoff_longitude'].values)\n",
    "\n",
    "train.head()"
   ]
  },
  {
   "cell_type": "markdown",
   "metadata": {},
   "source": [
    "#### 2.2.3 Average Speed\n",
    "A good way to measure traffic impact on taxi trips is to compute taxi trips average speed. A rough estimate of the speed would be the distance divided by the trip duration. In this case, we have two representation of the distance. Thus, we can plot these two presentation of speed over the course of hours in a day, and days in a week, and months in a year."
   ]
  },
  {
   "cell_type": "code",
   "execution_count": 13,
   "metadata": {},
   "outputs": [
    {
     "data": {
      "text/html": [
       "<div>\n",
       "<style scoped>\n",
       "    .dataframe tbody tr th:only-of-type {\n",
       "        vertical-align: middle;\n",
       "    }\n",
       "\n",
       "    .dataframe tbody tr th {\n",
       "        vertical-align: top;\n",
       "    }\n",
       "\n",
       "    .dataframe thead th {\n",
       "        text-align: right;\n",
       "    }\n",
       "</style>\n",
       "<table border=\"1\" class=\"dataframe\">\n",
       "  <thead>\n",
       "    <tr style=\"text-align: right;\">\n",
       "      <th></th>\n",
       "      <th>id</th>\n",
       "      <th>vendor_id</th>\n",
       "      <th>pickup_datetime</th>\n",
       "      <th>dropoff_datetime</th>\n",
       "      <th>passenger_count</th>\n",
       "      <th>pickup_longitude</th>\n",
       "      <th>pickup_latitude</th>\n",
       "      <th>dropoff_longitude</th>\n",
       "      <th>dropoff_latitude</th>\n",
       "      <th>store_and_fwd_flag</th>\n",
       "      <th>trip_duration</th>\n",
       "      <th>hour</th>\n",
       "      <th>day_of_week</th>\n",
       "      <th>date</th>\n",
       "      <th>day_of_month</th>\n",
       "      <th>month</th>\n",
       "      <th>haversine_dist</th>\n",
       "      <th>manhattan_dist</th>\n",
       "      <th>avg_speed_h</th>\n",
       "      <th>avg_speed_m</th>\n",
       "    </tr>\n",
       "  </thead>\n",
       "  <tbody>\n",
       "    <tr>\n",
       "      <th>0</th>\n",
       "      <td>id2875421</td>\n",
       "      <td>2</td>\n",
       "      <td>2016-03-14 17:24:55</td>\n",
       "      <td>2016-03-14 17:32:30</td>\n",
       "      <td>1</td>\n",
       "      <td>-73.982</td>\n",
       "      <td>40.768</td>\n",
       "      <td>-73.965</td>\n",
       "      <td>40.766</td>\n",
       "      <td>N</td>\n",
       "      <td>455</td>\n",
       "      <td>17</td>\n",
       "      <td>0</td>\n",
       "      <td>2016-03-14</td>\n",
       "      <td>14</td>\n",
       "      <td>3</td>\n",
       "      <td>1.499</td>\n",
       "      <td>1.735</td>\n",
       "      <td>11.856</td>\n",
       "      <td>13.731</td>\n",
       "    </tr>\n",
       "    <tr>\n",
       "      <th>1</th>\n",
       "      <td>id2377394</td>\n",
       "      <td>1</td>\n",
       "      <td>2016-06-12 00:43:35</td>\n",
       "      <td>2016-06-12 00:54:38</td>\n",
       "      <td>1</td>\n",
       "      <td>-73.980</td>\n",
       "      <td>40.739</td>\n",
       "      <td>-73.999</td>\n",
       "      <td>40.731</td>\n",
       "      <td>N</td>\n",
       "      <td>663</td>\n",
       "      <td>0</td>\n",
       "      <td>6</td>\n",
       "      <td>2016-06-12</td>\n",
       "      <td>12</td>\n",
       "      <td>6</td>\n",
       "      <td>1.806</td>\n",
       "      <td>2.431</td>\n",
       "      <td>9.804</td>\n",
       "      <td>13.197</td>\n",
       "    </tr>\n",
       "    <tr>\n",
       "      <th>2</th>\n",
       "      <td>id3858529</td>\n",
       "      <td>2</td>\n",
       "      <td>2016-01-19 11:35:24</td>\n",
       "      <td>2016-01-19 12:10:48</td>\n",
       "      <td>1</td>\n",
       "      <td>-73.979</td>\n",
       "      <td>40.764</td>\n",
       "      <td>-74.005</td>\n",
       "      <td>40.710</td>\n",
       "      <td>N</td>\n",
       "      <td>2124</td>\n",
       "      <td>11</td>\n",
       "      <td>1</td>\n",
       "      <td>2016-01-19</td>\n",
       "      <td>19</td>\n",
       "      <td>1</td>\n",
       "      <td>6.385</td>\n",
       "      <td>8.204</td>\n",
       "      <td>10.822</td>\n",
       "      <td>13.904</td>\n",
       "    </tr>\n",
       "    <tr>\n",
       "      <th>3</th>\n",
       "      <td>id3504673</td>\n",
       "      <td>2</td>\n",
       "      <td>2016-04-06 19:32:31</td>\n",
       "      <td>2016-04-06 19:39:40</td>\n",
       "      <td>1</td>\n",
       "      <td>-74.010</td>\n",
       "      <td>40.720</td>\n",
       "      <td>-74.012</td>\n",
       "      <td>40.707</td>\n",
       "      <td>N</td>\n",
       "      <td>429</td>\n",
       "      <td>19</td>\n",
       "      <td>2</td>\n",
       "      <td>2016-04-06</td>\n",
       "      <td>6</td>\n",
       "      <td>4</td>\n",
       "      <td>1.485</td>\n",
       "      <td>1.661</td>\n",
       "      <td>12.466</td>\n",
       "      <td>13.941</td>\n",
       "    </tr>\n",
       "    <tr>\n",
       "      <th>4</th>\n",
       "      <td>id2181028</td>\n",
       "      <td>2</td>\n",
       "      <td>2016-03-26 13:30:55</td>\n",
       "      <td>2016-03-26 13:38:10</td>\n",
       "      <td>1</td>\n",
       "      <td>-73.973</td>\n",
       "      <td>40.793</td>\n",
       "      <td>-73.973</td>\n",
       "      <td>40.783</td>\n",
       "      <td>N</td>\n",
       "      <td>435</td>\n",
       "      <td>13</td>\n",
       "      <td>5</td>\n",
       "      <td>2016-03-26</td>\n",
       "      <td>26</td>\n",
       "      <td>3</td>\n",
       "      <td>1.189</td>\n",
       "      <td>1.199</td>\n",
       "      <td>9.837</td>\n",
       "      <td>9.927</td>\n",
       "    </tr>\n",
       "  </tbody>\n",
       "</table>\n",
       "</div>"
      ],
      "text/plain": [
       "          id  vendor_id     pickup_datetime    dropoff_datetime  \\\n",
       "0  id2875421          2 2016-03-14 17:24:55 2016-03-14 17:32:30   \n",
       "1  id2377394          1 2016-06-12 00:43:35 2016-06-12 00:54:38   \n",
       "2  id3858529          2 2016-01-19 11:35:24 2016-01-19 12:10:48   \n",
       "3  id3504673          2 2016-04-06 19:32:31 2016-04-06 19:39:40   \n",
       "4  id2181028          2 2016-03-26 13:30:55 2016-03-26 13:38:10   \n",
       "\n",
       "   passenger_count  pickup_longitude  pickup_latitude  dropoff_longitude  \\\n",
       "0                1           -73.982           40.768            -73.965   \n",
       "1                1           -73.980           40.739            -73.999   \n",
       "2                1           -73.979           40.764            -74.005   \n",
       "3                1           -74.010           40.720            -74.012   \n",
       "4                1           -73.973           40.793            -73.973   \n",
       "\n",
       "   dropoff_latitude store_and_fwd_flag  trip_duration  hour  day_of_week  \\\n",
       "0            40.766                  N            455    17            0   \n",
       "1            40.731                  N            663     0            6   \n",
       "2            40.710                  N           2124    11            1   \n",
       "3            40.707                  N            429    19            2   \n",
       "4            40.783                  N            435    13            5   \n",
       "\n",
       "         date  day_of_month  month  haversine_dist  manhattan_dist  \\\n",
       "0  2016-03-14            14      3           1.499           1.735   \n",
       "1  2016-06-12            12      6           1.806           2.431   \n",
       "2  2016-01-19            19      1           6.385           8.204   \n",
       "3  2016-04-06             6      4           1.485           1.661   \n",
       "4  2016-03-26            26      3           1.189           1.199   \n",
       "\n",
       "   avg_speed_h  avg_speed_m  \n",
       "0       11.856       13.731  \n",
       "1        9.804       13.197  \n",
       "2       10.822       13.904  \n",
       "3       12.466       13.941  \n",
       "4        9.837        9.927  "
      ]
     },
     "execution_count": 13,
     "metadata": {},
     "output_type": "execute_result"
    }
   ],
   "source": [
    "train.loc[:, 'avg_speed_h'] = 3600 * train['haversine_dist'] / train['trip_duration']\n",
    "train.loc[:, 'avg_speed_m'] = 3600 * train['manhattan_dist'] / train['trip_duration']\n",
    "train.head()"
   ]
  },
  {
   "cell_type": "markdown",
   "metadata": {},
   "source": [
    "#### 2.2.4 Cluster Analysis\n",
    "We could use k-means clustering algorithm to identify the different neighborhoods in NYC. Taxi going from one neighborhood to another might affect the travel duration. For example, trips between midtown Manhattan and lower Manhattan might be longer than trips between harlem and upper east side Manhattan.\n",
    "\n",
    "I cluster the pickup and dropoff coordinates into 50 clusters. "
   ]
  },
  {
   "cell_type": "code",
   "execution_count": 14,
   "metadata": {},
   "outputs": [],
   "source": [
    "from sklearn.cluster import MiniBatchKMeans\n",
    "from sklearn.linear_model import LinearRegression, Ridge,BayesianRidge"
   ]
  },
  {
   "cell_type": "code",
   "execution_count": 15,
   "metadata": {},
   "outputs": [],
   "source": [
    "coords = np.vstack((train[['pickup_latitude', 'pickup_longitude']].values,\n",
    "                    train[['dropoff_latitude', 'dropoff_longitude']].values))\n",
    "sample_ind = np.random.permutation(len(coords))[:500000]\n",
    "kmeans = MiniBatchKMeans(n_clusters=50, batch_size=10000).fit(coords[sample_ind])"
   ]
  },
  {
   "cell_type": "code",
   "execution_count": 16,
   "metadata": {},
   "outputs": [],
   "source": [
    "train.loc[:, 'pickup_cluster'] = kmeans.predict(train[['pickup_latitude', 'pickup_longitude']])\n",
    "train.loc[:, 'dropoff_cluster'] = kmeans.predict(train[['dropoff_latitude', 'dropoff_longitude']])\n",
    "test.loc[:, 'pickup_cluster'] = kmeans.predict(test[['pickup_latitude', 'pickup_longitude']])\n",
    "test.loc[:, 'dropoff_cluster'] = kmeans.predict(test[['dropoff_latitude', 'dropoff_longitude']])"
   ]
  },
  {
   "cell_type": "markdown",
   "metadata": {},
   "source": [
    "#### 2.2.5 Weather Data\n",
    "I will incorporate the weather data into this competition."
   ]
  },
  {
   "cell_type": "code",
   "execution_count": 17,
   "metadata": {},
   "outputs": [
    {
     "data": {
      "text/html": [
       "<div>\n",
       "<style scoped>\n",
       "    .dataframe tbody tr th:only-of-type {\n",
       "        vertical-align: middle;\n",
       "    }\n",
       "\n",
       "    .dataframe tbody tr th {\n",
       "        vertical-align: top;\n",
       "    }\n",
       "\n",
       "    .dataframe thead th {\n",
       "        text-align: right;\n",
       "    }\n",
       "</style>\n",
       "<table border=\"1\" class=\"dataframe\">\n",
       "  <thead>\n",
       "    <tr style=\"text-align: right;\">\n",
       "      <th></th>\n",
       "      <th>date</th>\n",
       "      <th>maximum temperature</th>\n",
       "      <th>minimum temperature</th>\n",
       "      <th>average temperature</th>\n",
       "      <th>precipitation</th>\n",
       "      <th>snow fall</th>\n",
       "      <th>snow depth</th>\n",
       "    </tr>\n",
       "  </thead>\n",
       "  <tbody>\n",
       "    <tr>\n",
       "      <th>0</th>\n",
       "      <td>1-1-2016</td>\n",
       "      <td>42</td>\n",
       "      <td>34</td>\n",
       "      <td>38.000</td>\n",
       "      <td>0.00</td>\n",
       "      <td>0.0</td>\n",
       "      <td>0</td>\n",
       "    </tr>\n",
       "    <tr>\n",
       "      <th>1</th>\n",
       "      <td>2-1-2016</td>\n",
       "      <td>40</td>\n",
       "      <td>32</td>\n",
       "      <td>36.000</td>\n",
       "      <td>0.00</td>\n",
       "      <td>0.0</td>\n",
       "      <td>0</td>\n",
       "    </tr>\n",
       "    <tr>\n",
       "      <th>2</th>\n",
       "      <td>3-1-2016</td>\n",
       "      <td>45</td>\n",
       "      <td>35</td>\n",
       "      <td>40.000</td>\n",
       "      <td>0.00</td>\n",
       "      <td>0.0</td>\n",
       "      <td>0</td>\n",
       "    </tr>\n",
       "    <tr>\n",
       "      <th>3</th>\n",
       "      <td>4-1-2016</td>\n",
       "      <td>36</td>\n",
       "      <td>14</td>\n",
       "      <td>25.000</td>\n",
       "      <td>0.00</td>\n",
       "      <td>0.0</td>\n",
       "      <td>0</td>\n",
       "    </tr>\n",
       "    <tr>\n",
       "      <th>4</th>\n",
       "      <td>5-1-2016</td>\n",
       "      <td>29</td>\n",
       "      <td>11</td>\n",
       "      <td>20.000</td>\n",
       "      <td>0.00</td>\n",
       "      <td>0.0</td>\n",
       "      <td>0</td>\n",
       "    </tr>\n",
       "  </tbody>\n",
       "</table>\n",
       "</div>"
      ],
      "text/plain": [
       "       date  maximum temperature  minimum temperature  average temperature  \\\n",
       "0  1-1-2016                   42                   34               38.000   \n",
       "1  2-1-2016                   40                   32               36.000   \n",
       "2  3-1-2016                   45                   35               40.000   \n",
       "3  4-1-2016                   36                   14               25.000   \n",
       "4  5-1-2016                   29                   11               20.000   \n",
       "\n",
       "  precipitation snow fall snow depth  \n",
       "0          0.00       0.0          0  \n",
       "1          0.00       0.0          0  \n",
       "2          0.00       0.0          0  \n",
       "3          0.00       0.0          0  \n",
       "4          0.00       0.0          0  "
      ]
     },
     "execution_count": 17,
     "metadata": {},
     "output_type": "execute_result"
    }
   ],
   "source": [
    "weather_df = pd.read_csv('data/weather_data_nyc_centralpark_2016.csv')\n",
    "weather_df.head()"
   ]
  },
  {
   "cell_type": "code",
   "execution_count": 18,
   "metadata": {},
   "outputs": [],
   "source": [
    "weather = weather_df.copy()"
   ]
  },
  {
   "cell_type": "code",
   "execution_count": 19,
   "metadata": {},
   "outputs": [
    {
     "data": {
      "text/html": [
       "<div>\n",
       "<style scoped>\n",
       "    .dataframe tbody tr th:only-of-type {\n",
       "        vertical-align: middle;\n",
       "    }\n",
       "\n",
       "    .dataframe tbody tr th {\n",
       "        vertical-align: top;\n",
       "    }\n",
       "\n",
       "    .dataframe thead th {\n",
       "        text-align: right;\n",
       "    }\n",
       "</style>\n",
       "<table border=\"1\" class=\"dataframe\">\n",
       "  <thead>\n",
       "    <tr style=\"text-align: right;\">\n",
       "      <th></th>\n",
       "      <th>date</th>\n",
       "      <th>maximum temperature</th>\n",
       "      <th>minimum temperature</th>\n",
       "      <th>average temperature</th>\n",
       "      <th>precipitation</th>\n",
       "      <th>snow fall</th>\n",
       "      <th>snow depth</th>\n",
       "    </tr>\n",
       "  </thead>\n",
       "  <tbody>\n",
       "    <tr>\n",
       "      <th>0</th>\n",
       "      <td>2016-01-01</td>\n",
       "      <td>42</td>\n",
       "      <td>34</td>\n",
       "      <td>38.000</td>\n",
       "      <td>0.00</td>\n",
       "      <td>0.0</td>\n",
       "      <td>0</td>\n",
       "    </tr>\n",
       "    <tr>\n",
       "      <th>1</th>\n",
       "      <td>2016-01-02</td>\n",
       "      <td>40</td>\n",
       "      <td>32</td>\n",
       "      <td>36.000</td>\n",
       "      <td>0.00</td>\n",
       "      <td>0.0</td>\n",
       "      <td>0</td>\n",
       "    </tr>\n",
       "    <tr>\n",
       "      <th>2</th>\n",
       "      <td>2016-01-03</td>\n",
       "      <td>45</td>\n",
       "      <td>35</td>\n",
       "      <td>40.000</td>\n",
       "      <td>0.00</td>\n",
       "      <td>0.0</td>\n",
       "      <td>0</td>\n",
       "    </tr>\n",
       "    <tr>\n",
       "      <th>3</th>\n",
       "      <td>2016-01-04</td>\n",
       "      <td>36</td>\n",
       "      <td>14</td>\n",
       "      <td>25.000</td>\n",
       "      <td>0.00</td>\n",
       "      <td>0.0</td>\n",
       "      <td>0</td>\n",
       "    </tr>\n",
       "    <tr>\n",
       "      <th>4</th>\n",
       "      <td>2016-01-05</td>\n",
       "      <td>29</td>\n",
       "      <td>11</td>\n",
       "      <td>20.000</td>\n",
       "      <td>0.00</td>\n",
       "      <td>0.0</td>\n",
       "      <td>0</td>\n",
       "    </tr>\n",
       "  </tbody>\n",
       "</table>\n",
       "</div>"
      ],
      "text/plain": [
       "        date  maximum temperature  minimum temperature  average temperature  \\\n",
       "0 2016-01-01                   42                   34               38.000   \n",
       "1 2016-01-02                   40                   32               36.000   \n",
       "2 2016-01-03                   45                   35               40.000   \n",
       "3 2016-01-04                   36                   14               25.000   \n",
       "4 2016-01-05                   29                   11               20.000   \n",
       "\n",
       "  precipitation snow fall snow depth  \n",
       "0          0.00       0.0          0  \n",
       "1          0.00       0.0          0  \n",
       "2          0.00       0.0          0  \n",
       "3          0.00       0.0          0  \n",
       "4          0.00       0.0          0  "
      ]
     },
     "execution_count": 19,
     "metadata": {},
     "output_type": "execute_result"
    }
   ],
   "source": [
    "weather.date = pd.to_datetime(weather.date, dayfirst=True)\n",
    "weather.head()"
   ]
  },
  {
   "cell_type": "code",
   "execution_count": 20,
   "metadata": {},
   "outputs": [],
   "source": [
    "weather['precipitation'] = np.where(weather['precipitation']=='T', '0.00', weather['precipitation'])\n",
    "weather['precipitation'] = list(map(float, weather['precipitation']))"
   ]
  },
  {
   "cell_type": "code",
   "execution_count": 21,
   "metadata": {},
   "outputs": [],
   "source": [
    "weather['snow fall'] = np.where(weather['snow fall']=='T', '0.00', weather['snow fall'])\n",
    "weather['snow fall'] = list(map(float, weather['snow fall']))"
   ]
  },
  {
   "cell_type": "code",
   "execution_count": 22,
   "metadata": {},
   "outputs": [],
   "source": [
    "weather['snow depth'] = np.where(weather['snow depth']=='T', '0.00', weather['snow depth'])\n",
    "weather['snow depth'] = list(map(float, weather['snow depth']))"
   ]
  },
  {
   "cell_type": "code",
   "execution_count": 23,
   "metadata": {},
   "outputs": [],
   "source": [
    "train['date'] = pd.to_datetime(train['date'])\n",
    "test['date'] = pd.to_datetime(test['date'])"
   ]
  },
  {
   "cell_type": "code",
   "execution_count": 24,
   "metadata": {},
   "outputs": [],
   "source": [
    "train = pd.merge(train, weather[['date', 'maximum temperature', 'minimum temperature', 'average temperature', 'precipitation', 'snow fall', 'snow depth']], on='date', how='left')\n",
    "test = pd.merge(test, weather[['date', 'maximum temperature', 'minimum temperature', 'average temperature', 'precipitation', 'snow fall', 'snow depth']], on='date', how='left')"
   ]
  },
  {
   "cell_type": "code",
   "execution_count": 25,
   "metadata": {},
   "outputs": [
    {
     "data": {
      "text/plain": [
       "((1437693, 28), (625134, 24))"
      ]
     },
     "execution_count": 25,
     "metadata": {},
     "output_type": "execute_result"
    }
   ],
   "source": [
    "train.shape, test.shape"
   ]
  },
  {
   "cell_type": "code",
   "execution_count": 26,
   "metadata": {},
   "outputs": [
    {
     "data": {
      "text/html": [
       "<div>\n",
       "<style scoped>\n",
       "    .dataframe tbody tr th:only-of-type {\n",
       "        vertical-align: middle;\n",
       "    }\n",
       "\n",
       "    .dataframe tbody tr th {\n",
       "        vertical-align: top;\n",
       "    }\n",
       "\n",
       "    .dataframe thead th {\n",
       "        text-align: right;\n",
       "    }\n",
       "</style>\n",
       "<table border=\"1\" class=\"dataframe\">\n",
       "  <thead>\n",
       "    <tr style=\"text-align: right;\">\n",
       "      <th></th>\n",
       "      <th>id</th>\n",
       "      <th>vendor_id</th>\n",
       "      <th>pickup_datetime</th>\n",
       "      <th>dropoff_datetime</th>\n",
       "      <th>passenger_count</th>\n",
       "      <th>pickup_longitude</th>\n",
       "      <th>pickup_latitude</th>\n",
       "      <th>dropoff_longitude</th>\n",
       "      <th>dropoff_latitude</th>\n",
       "      <th>store_and_fwd_flag</th>\n",
       "      <th>...</th>\n",
       "      <th>avg_speed_h</th>\n",
       "      <th>avg_speed_m</th>\n",
       "      <th>pickup_cluster</th>\n",
       "      <th>dropoff_cluster</th>\n",
       "      <th>maximum temperature</th>\n",
       "      <th>minimum temperature</th>\n",
       "      <th>average temperature</th>\n",
       "      <th>precipitation</th>\n",
       "      <th>snow fall</th>\n",
       "      <th>snow depth</th>\n",
       "    </tr>\n",
       "  </thead>\n",
       "  <tbody>\n",
       "    <tr>\n",
       "      <th>0</th>\n",
       "      <td>id2875421</td>\n",
       "      <td>2</td>\n",
       "      <td>2016-03-14 17:24:55</td>\n",
       "      <td>2016-03-14 17:32:30</td>\n",
       "      <td>1</td>\n",
       "      <td>-73.982</td>\n",
       "      <td>40.768</td>\n",
       "      <td>-73.965</td>\n",
       "      <td>40.766</td>\n",
       "      <td>N</td>\n",
       "      <td>...</td>\n",
       "      <td>11.856</td>\n",
       "      <td>13.731</td>\n",
       "      <td>34</td>\n",
       "      <td>25</td>\n",
       "      <td>51</td>\n",
       "      <td>40</td>\n",
       "      <td>45.500</td>\n",
       "      <td>0.290</td>\n",
       "      <td>0.000</td>\n",
       "      <td>0.000</td>\n",
       "    </tr>\n",
       "    <tr>\n",
       "      <th>1</th>\n",
       "      <td>id2377394</td>\n",
       "      <td>1</td>\n",
       "      <td>2016-06-12 00:43:35</td>\n",
       "      <td>2016-06-12 00:54:38</td>\n",
       "      <td>1</td>\n",
       "      <td>-73.980</td>\n",
       "      <td>40.739</td>\n",
       "      <td>-73.999</td>\n",
       "      <td>40.731</td>\n",
       "      <td>N</td>\n",
       "      <td>...</td>\n",
       "      <td>9.804</td>\n",
       "      <td>13.197</td>\n",
       "      <td>28</td>\n",
       "      <td>12</td>\n",
       "      <td>83</td>\n",
       "      <td>62</td>\n",
       "      <td>72.500</td>\n",
       "      <td>0.000</td>\n",
       "      <td>0.000</td>\n",
       "      <td>0.000</td>\n",
       "    </tr>\n",
       "    <tr>\n",
       "      <th>2</th>\n",
       "      <td>id3858529</td>\n",
       "      <td>2</td>\n",
       "      <td>2016-01-19 11:35:24</td>\n",
       "      <td>2016-01-19 12:10:48</td>\n",
       "      <td>1</td>\n",
       "      <td>-73.979</td>\n",
       "      <td>40.764</td>\n",
       "      <td>-74.005</td>\n",
       "      <td>40.710</td>\n",
       "      <td>N</td>\n",
       "      <td>...</td>\n",
       "      <td>10.822</td>\n",
       "      <td>13.904</td>\n",
       "      <td>18</td>\n",
       "      <td>4</td>\n",
       "      <td>28</td>\n",
       "      <td>16</td>\n",
       "      <td>22.000</td>\n",
       "      <td>0.000</td>\n",
       "      <td>0.000</td>\n",
       "      <td>0.000</td>\n",
       "    </tr>\n",
       "    <tr>\n",
       "      <th>3</th>\n",
       "      <td>id3504673</td>\n",
       "      <td>2</td>\n",
       "      <td>2016-04-06 19:32:31</td>\n",
       "      <td>2016-04-06 19:39:40</td>\n",
       "      <td>1</td>\n",
       "      <td>-74.010</td>\n",
       "      <td>40.720</td>\n",
       "      <td>-74.012</td>\n",
       "      <td>40.707</td>\n",
       "      <td>N</td>\n",
       "      <td>...</td>\n",
       "      <td>12.466</td>\n",
       "      <td>13.941</td>\n",
       "      <td>29</td>\n",
       "      <td>4</td>\n",
       "      <td>48</td>\n",
       "      <td>30</td>\n",
       "      <td>39.000</td>\n",
       "      <td>0.000</td>\n",
       "      <td>0.000</td>\n",
       "      <td>0.000</td>\n",
       "    </tr>\n",
       "    <tr>\n",
       "      <th>4</th>\n",
       "      <td>id2181028</td>\n",
       "      <td>2</td>\n",
       "      <td>2016-03-26 13:30:55</td>\n",
       "      <td>2016-03-26 13:38:10</td>\n",
       "      <td>1</td>\n",
       "      <td>-73.973</td>\n",
       "      <td>40.793</td>\n",
       "      <td>-73.973</td>\n",
       "      <td>40.783</td>\n",
       "      <td>N</td>\n",
       "      <td>...</td>\n",
       "      <td>9.837</td>\n",
       "      <td>9.927</td>\n",
       "      <td>19</td>\n",
       "      <td>39</td>\n",
       "      <td>55</td>\n",
       "      <td>38</td>\n",
       "      <td>46.500</td>\n",
       "      <td>0.000</td>\n",
       "      <td>0.000</td>\n",
       "      <td>0.000</td>\n",
       "    </tr>\n",
       "  </tbody>\n",
       "</table>\n",
       "<p>5 rows × 28 columns</p>\n",
       "</div>"
      ],
      "text/plain": [
       "          id  vendor_id     pickup_datetime    dropoff_datetime  \\\n",
       "0  id2875421          2 2016-03-14 17:24:55 2016-03-14 17:32:30   \n",
       "1  id2377394          1 2016-06-12 00:43:35 2016-06-12 00:54:38   \n",
       "2  id3858529          2 2016-01-19 11:35:24 2016-01-19 12:10:48   \n",
       "3  id3504673          2 2016-04-06 19:32:31 2016-04-06 19:39:40   \n",
       "4  id2181028          2 2016-03-26 13:30:55 2016-03-26 13:38:10   \n",
       "\n",
       "   passenger_count  pickup_longitude  pickup_latitude  dropoff_longitude  \\\n",
       "0                1           -73.982           40.768            -73.965   \n",
       "1                1           -73.980           40.739            -73.999   \n",
       "2                1           -73.979           40.764            -74.005   \n",
       "3                1           -74.010           40.720            -74.012   \n",
       "4                1           -73.973           40.793            -73.973   \n",
       "\n",
       "   dropoff_latitude store_and_fwd_flag     ...      avg_speed_h  avg_speed_m  \\\n",
       "0            40.766                  N     ...           11.856       13.731   \n",
       "1            40.731                  N     ...            9.804       13.197   \n",
       "2            40.710                  N     ...           10.822       13.904   \n",
       "3            40.707                  N     ...           12.466       13.941   \n",
       "4            40.783                  N     ...            9.837        9.927   \n",
       "\n",
       "   pickup_cluster dropoff_cluster  maximum temperature  minimum temperature  \\\n",
       "0              34              25                   51                   40   \n",
       "1              28              12                   83                   62   \n",
       "2              18               4                   28                   16   \n",
       "3              29               4                   48                   30   \n",
       "4              19              39                   55                   38   \n",
       "\n",
       "   average temperature  precipitation  snow fall  snow depth  \n",
       "0               45.500          0.290      0.000       0.000  \n",
       "1               72.500          0.000      0.000       0.000  \n",
       "2               22.000          0.000      0.000       0.000  \n",
       "3               39.000          0.000      0.000       0.000  \n",
       "4               46.500          0.000      0.000       0.000  \n",
       "\n",
       "[5 rows x 28 columns]"
      ]
     },
     "execution_count": 26,
     "metadata": {},
     "output_type": "execute_result"
    }
   ],
   "source": [
    "train.head()"
   ]
  },
  {
   "cell_type": "code",
   "execution_count": 27,
   "metadata": {},
   "outputs": [
    {
     "data": {
      "text/html": [
       "<div>\n",
       "<style scoped>\n",
       "    .dataframe tbody tr th:only-of-type {\n",
       "        vertical-align: middle;\n",
       "    }\n",
       "\n",
       "    .dataframe tbody tr th {\n",
       "        vertical-align: top;\n",
       "    }\n",
       "\n",
       "    .dataframe thead th {\n",
       "        text-align: right;\n",
       "    }\n",
       "</style>\n",
       "<table border=\"1\" class=\"dataframe\">\n",
       "  <thead>\n",
       "    <tr style=\"text-align: right;\">\n",
       "      <th></th>\n",
       "      <th>id</th>\n",
       "      <th>vendor_id</th>\n",
       "      <th>pickup_datetime</th>\n",
       "      <th>passenger_count</th>\n",
       "      <th>pickup_longitude</th>\n",
       "      <th>pickup_latitude</th>\n",
       "      <th>dropoff_longitude</th>\n",
       "      <th>dropoff_latitude</th>\n",
       "      <th>store_and_fwd_flag</th>\n",
       "      <th>hour</th>\n",
       "      <th>...</th>\n",
       "      <th>haversine_dist</th>\n",
       "      <th>manhattan_dist</th>\n",
       "      <th>pickup_cluster</th>\n",
       "      <th>dropoff_cluster</th>\n",
       "      <th>maximum temperature</th>\n",
       "      <th>minimum temperature</th>\n",
       "      <th>average temperature</th>\n",
       "      <th>precipitation</th>\n",
       "      <th>snow fall</th>\n",
       "      <th>snow depth</th>\n",
       "    </tr>\n",
       "  </thead>\n",
       "  <tbody>\n",
       "    <tr>\n",
       "      <th>0</th>\n",
       "      <td>id3004672</td>\n",
       "      <td>1</td>\n",
       "      <td>2016-06-30 23:59:58</td>\n",
       "      <td>1</td>\n",
       "      <td>-73.988</td>\n",
       "      <td>40.732</td>\n",
       "      <td>-73.990</td>\n",
       "      <td>40.757</td>\n",
       "      <td>N</td>\n",
       "      <td>23</td>\n",
       "      <td>...</td>\n",
       "      <td>2.746</td>\n",
       "      <td>2.913</td>\n",
       "      <td>32</td>\n",
       "      <td>40</td>\n",
       "      <td>85</td>\n",
       "      <td>67</td>\n",
       "      <td>76.000</td>\n",
       "      <td>0.000</td>\n",
       "      <td>0.000</td>\n",
       "      <td>0.000</td>\n",
       "    </tr>\n",
       "    <tr>\n",
       "      <th>1</th>\n",
       "      <td>id3505355</td>\n",
       "      <td>1</td>\n",
       "      <td>2016-06-30 23:59:53</td>\n",
       "      <td>1</td>\n",
       "      <td>-73.964</td>\n",
       "      <td>40.680</td>\n",
       "      <td>-73.960</td>\n",
       "      <td>40.655</td>\n",
       "      <td>N</td>\n",
       "      <td>23</td>\n",
       "      <td>...</td>\n",
       "      <td>2.759</td>\n",
       "      <td>3.105</td>\n",
       "      <td>7</td>\n",
       "      <td>42</td>\n",
       "      <td>85</td>\n",
       "      <td>67</td>\n",
       "      <td>76.000</td>\n",
       "      <td>0.000</td>\n",
       "      <td>0.000</td>\n",
       "      <td>0.000</td>\n",
       "    </tr>\n",
       "    <tr>\n",
       "      <th>2</th>\n",
       "      <td>id1217141</td>\n",
       "      <td>1</td>\n",
       "      <td>2016-06-30 23:59:47</td>\n",
       "      <td>1</td>\n",
       "      <td>-73.997</td>\n",
       "      <td>40.738</td>\n",
       "      <td>-73.986</td>\n",
       "      <td>40.730</td>\n",
       "      <td>N</td>\n",
       "      <td>23</td>\n",
       "      <td>...</td>\n",
       "      <td>1.306</td>\n",
       "      <td>1.846</td>\n",
       "      <td>0</td>\n",
       "      <td>32</td>\n",
       "      <td>85</td>\n",
       "      <td>67</td>\n",
       "      <td>76.000</td>\n",
       "      <td>0.000</td>\n",
       "      <td>0.000</td>\n",
       "      <td>0.000</td>\n",
       "    </tr>\n",
       "    <tr>\n",
       "      <th>3</th>\n",
       "      <td>id2150126</td>\n",
       "      <td>2</td>\n",
       "      <td>2016-06-30 23:59:41</td>\n",
       "      <td>1</td>\n",
       "      <td>-73.956</td>\n",
       "      <td>40.772</td>\n",
       "      <td>-73.986</td>\n",
       "      <td>40.730</td>\n",
       "      <td>N</td>\n",
       "      <td>23</td>\n",
       "      <td>...</td>\n",
       "      <td>5.269</td>\n",
       "      <td>7.163</td>\n",
       "      <td>16</td>\n",
       "      <td>32</td>\n",
       "      <td>85</td>\n",
       "      <td>67</td>\n",
       "      <td>76.000</td>\n",
       "      <td>0.000</td>\n",
       "      <td>0.000</td>\n",
       "      <td>0.000</td>\n",
       "    </tr>\n",
       "    <tr>\n",
       "      <th>4</th>\n",
       "      <td>id1598245</td>\n",
       "      <td>1</td>\n",
       "      <td>2016-06-30 23:59:33</td>\n",
       "      <td>1</td>\n",
       "      <td>-73.970</td>\n",
       "      <td>40.761</td>\n",
       "      <td>-73.962</td>\n",
       "      <td>40.756</td>\n",
       "      <td>N</td>\n",
       "      <td>23</td>\n",
       "      <td>...</td>\n",
       "      <td>0.961</td>\n",
       "      <td>1.354</td>\n",
       "      <td>43</td>\n",
       "      <td>25</td>\n",
       "      <td>85</td>\n",
       "      <td>67</td>\n",
       "      <td>76.000</td>\n",
       "      <td>0.000</td>\n",
       "      <td>0.000</td>\n",
       "      <td>0.000</td>\n",
       "    </tr>\n",
       "  </tbody>\n",
       "</table>\n",
       "<p>5 rows × 24 columns</p>\n",
       "</div>"
      ],
      "text/plain": [
       "          id  vendor_id     pickup_datetime  passenger_count  \\\n",
       "0  id3004672          1 2016-06-30 23:59:58                1   \n",
       "1  id3505355          1 2016-06-30 23:59:53                1   \n",
       "2  id1217141          1 2016-06-30 23:59:47                1   \n",
       "3  id2150126          2 2016-06-30 23:59:41                1   \n",
       "4  id1598245          1 2016-06-30 23:59:33                1   \n",
       "\n",
       "   pickup_longitude  pickup_latitude  dropoff_longitude  dropoff_latitude  \\\n",
       "0           -73.988           40.732            -73.990            40.757   \n",
       "1           -73.964           40.680            -73.960            40.655   \n",
       "2           -73.997           40.738            -73.986            40.730   \n",
       "3           -73.956           40.772            -73.986            40.730   \n",
       "4           -73.970           40.761            -73.962            40.756   \n",
       "\n",
       "  store_and_fwd_flag  hour     ...      haversine_dist manhattan_dist  \\\n",
       "0                  N    23     ...               2.746          2.913   \n",
       "1                  N    23     ...               2.759          3.105   \n",
       "2                  N    23     ...               1.306          1.846   \n",
       "3                  N    23     ...               5.269          7.163   \n",
       "4                  N    23     ...               0.961          1.354   \n",
       "\n",
       "   pickup_cluster  dropoff_cluster  maximum temperature  minimum temperature  \\\n",
       "0              32               40                   85                   67   \n",
       "1               7               42                   85                   67   \n",
       "2               0               32                   85                   67   \n",
       "3              16               32                   85                   67   \n",
       "4              43               25                   85                   67   \n",
       "\n",
       "   average temperature  precipitation  snow fall  snow depth  \n",
       "0               76.000          0.000      0.000       0.000  \n",
       "1               76.000          0.000      0.000       0.000  \n",
       "2               76.000          0.000      0.000       0.000  \n",
       "3               76.000          0.000      0.000       0.000  \n",
       "4               76.000          0.000      0.000       0.000  \n",
       "\n",
       "[5 rows x 24 columns]"
      ]
     },
     "execution_count": 27,
     "metadata": {},
     "output_type": "execute_result"
    }
   ],
   "source": [
    "test.head()"
   ]
  },
  {
   "cell_type": "markdown",
   "metadata": {},
   "source": [
    "## 3. Data Visualization\n",
    "We are asked to predict trip_duration of the test set, so we first check what kind of trips durations are present in the dataset. \n"
   ]
  },
  {
   "cell_type": "markdown",
   "metadata": {},
   "source": [
    "### 3.1 Trip Duration Distribution\n",
    "First I plotted it on a plain scale and not on a log scale, and some of the records have very long trip durations ~100 hours. Such long trips are making all another trip invisible in the histogram on plain scale => We go ahead with the log scale. Another reason of using the log scale for visualizing trip-duration on the log scale is that this competition uses rmsle matrix so it would make sense to visualize the target variable in log scale only."
   ]
  },
  {
   "cell_type": "code",
   "execution_count": 28,
   "metadata": {},
   "outputs": [
    {
     "data": {
      "image/png": "[encoded data removed]",
      "text/plain": [
       "<matplotlib.figure.Figure at 0x10f1e3fd0>"
      ]
     },
     "metadata": {},
     "output_type": "display_data"
    }
   ],
   "source": [
    "%matplotlib inline\n",
    "# plt.rcParams['figure.figsize'] = [16, 10]\n",
    "plt.hist(train['trip_duration'].values, bins=200)\n",
    "plt.xlabel('trip_duration')\n",
    "plt.ylabel('number of train records')\n",
    "plt.show()"
   ]
  },
  {
   "cell_type": "code",
   "execution_count": 29,
   "metadata": {},
   "outputs": [
    {
     "data": {
      "image/png": "[encoded data removed]",
      "text/plain": [
       "<matplotlib.figure.Figure at 0x10f1e39e8>"
      ]
     },
     "metadata": {},
     "output_type": "display_data"
    }
   ],
   "source": [
    "%matplotlib inline\n",
    "sns.set(style=\"white\", palette=\"muted\", color_codes=True)\n",
    "f, axes = plt.subplots(1, 1, figsize=(11, 7), sharex=True)\n",
    "sns.despine(left=True)\n",
    "sns.distplot(np.log(train['trip_duration'].values + 1), axlabel = 'Log(trip_duration)', label = 'log(trip_duration)', bins = 100, color=\"b\")\n",
    "plt.show()"
   ]
  },
  {
   "cell_type": "code",
   "execution_count": 30,
   "metadata": {},
   "outputs": [
    {
     "data": {
      "text/html": [
       "<div>\n",
       "<style scoped>\n",
       "    .dataframe tbody tr th:only-of-type {\n",
       "        vertical-align: middle;\n",
       "    }\n",
       "\n",
       "    .dataframe tbody tr th {\n",
       "        vertical-align: top;\n",
       "    }\n",
       "\n",
       "    .dataframe thead th {\n",
       "        text-align: right;\n",
       "    }\n",
       "</style>\n",
       "<table border=\"1\" class=\"dataframe\">\n",
       "  <thead>\n",
       "    <tr style=\"text-align: right;\">\n",
       "      <th></th>\n",
       "      <th>id</th>\n",
       "      <th>vendor_id</th>\n",
       "      <th>pickup_datetime</th>\n",
       "      <th>dropoff_datetime</th>\n",
       "      <th>passenger_count</th>\n",
       "      <th>pickup_longitude</th>\n",
       "      <th>pickup_latitude</th>\n",
       "      <th>dropoff_longitude</th>\n",
       "      <th>dropoff_latitude</th>\n",
       "      <th>store_and_fwd_flag</th>\n",
       "      <th>...</th>\n",
       "      <th>avg_speed_m</th>\n",
       "      <th>pickup_cluster</th>\n",
       "      <th>dropoff_cluster</th>\n",
       "      <th>maximum temperature</th>\n",
       "      <th>minimum temperature</th>\n",
       "      <th>average temperature</th>\n",
       "      <th>precipitation</th>\n",
       "      <th>snow fall</th>\n",
       "      <th>snow depth</th>\n",
       "      <th>log_trip_duration</th>\n",
       "    </tr>\n",
       "  </thead>\n",
       "  <tbody>\n",
       "    <tr>\n",
       "      <th>0</th>\n",
       "      <td>id2875421</td>\n",
       "      <td>2</td>\n",
       "      <td>2016-03-14 17:24:55</td>\n",
       "      <td>2016-03-14 17:32:30</td>\n",
       "      <td>1</td>\n",
       "      <td>-73.982</td>\n",
       "      <td>40.768</td>\n",
       "      <td>-73.965</td>\n",
       "      <td>40.766</td>\n",
       "      <td>N</td>\n",
       "      <td>...</td>\n",
       "      <td>13.731</td>\n",
       "      <td>34</td>\n",
       "      <td>25</td>\n",
       "      <td>51</td>\n",
       "      <td>40</td>\n",
       "      <td>45.500</td>\n",
       "      <td>0.290</td>\n",
       "      <td>0.000</td>\n",
       "      <td>0.000</td>\n",
       "      <td>6.122</td>\n",
       "    </tr>\n",
       "    <tr>\n",
       "      <th>1</th>\n",
       "      <td>id2377394</td>\n",
       "      <td>1</td>\n",
       "      <td>2016-06-12 00:43:35</td>\n",
       "      <td>2016-06-12 00:54:38</td>\n",
       "      <td>1</td>\n",
       "      <td>-73.980</td>\n",
       "      <td>40.739</td>\n",
       "      <td>-73.999</td>\n",
       "      <td>40.731</td>\n",
       "      <td>N</td>\n",
       "      <td>...</td>\n",
       "      <td>13.197</td>\n",
       "      <td>28</td>\n",
       "      <td>12</td>\n",
       "      <td>83</td>\n",
       "      <td>62</td>\n",
       "      <td>72.500</td>\n",
       "      <td>0.000</td>\n",
       "      <td>0.000</td>\n",
       "      <td>0.000</td>\n",
       "      <td>6.498</td>\n",
       "    </tr>\n",
       "    <tr>\n",
       "      <th>2</th>\n",
       "      <td>id3858529</td>\n",
       "      <td>2</td>\n",
       "      <td>2016-01-19 11:35:24</td>\n",
       "      <td>2016-01-19 12:10:48</td>\n",
       "      <td>1</td>\n",
       "      <td>-73.979</td>\n",
       "      <td>40.764</td>\n",
       "      <td>-74.005</td>\n",
       "      <td>40.710</td>\n",
       "      <td>N</td>\n",
       "      <td>...</td>\n",
       "      <td>13.904</td>\n",
       "      <td>18</td>\n",
       "      <td>4</td>\n",
       "      <td>28</td>\n",
       "      <td>16</td>\n",
       "      <td>22.000</td>\n",
       "      <td>0.000</td>\n",
       "      <td>0.000</td>\n",
       "      <td>0.000</td>\n",
       "      <td>7.662</td>\n",
       "    </tr>\n",
       "    <tr>\n",
       "      <th>3</th>\n",
       "      <td>id3504673</td>\n",
       "      <td>2</td>\n",
       "      <td>2016-04-06 19:32:31</td>\n",
       "      <td>2016-04-06 19:39:40</td>\n",
       "      <td>1</td>\n",
       "      <td>-74.010</td>\n",
       "      <td>40.720</td>\n",
       "      <td>-74.012</td>\n",
       "      <td>40.707</td>\n",
       "      <td>N</td>\n",
       "      <td>...</td>\n",
       "      <td>13.941</td>\n",
       "      <td>29</td>\n",
       "      <td>4</td>\n",
       "      <td>48</td>\n",
       "      <td>30</td>\n",
       "      <td>39.000</td>\n",
       "      <td>0.000</td>\n",
       "      <td>0.000</td>\n",
       "      <td>0.000</td>\n",
       "      <td>6.064</td>\n",
       "    </tr>\n",
       "    <tr>\n",
       "      <th>4</th>\n",
       "      <td>id2181028</td>\n",
       "      <td>2</td>\n",
       "      <td>2016-03-26 13:30:55</td>\n",
       "      <td>2016-03-26 13:38:10</td>\n",
       "      <td>1</td>\n",
       "      <td>-73.973</td>\n",
       "      <td>40.793</td>\n",
       "      <td>-73.973</td>\n",
       "      <td>40.783</td>\n",
       "      <td>N</td>\n",
       "      <td>...</td>\n",
       "      <td>9.927</td>\n",
       "      <td>19</td>\n",
       "      <td>39</td>\n",
       "      <td>55</td>\n",
       "      <td>38</td>\n",
       "      <td>46.500</td>\n",
       "      <td>0.000</td>\n",
       "      <td>0.000</td>\n",
       "      <td>0.000</td>\n",
       "      <td>6.078</td>\n",
       "    </tr>\n",
       "  </tbody>\n",
       "</table>\n",
       "<p>5 rows × 29 columns</p>\n",
       "</div>"
      ],
      "text/plain": [
       "          id  vendor_id     pickup_datetime    dropoff_datetime  \\\n",
       "0  id2875421          2 2016-03-14 17:24:55 2016-03-14 17:32:30   \n",
       "1  id2377394          1 2016-06-12 00:43:35 2016-06-12 00:54:38   \n",
       "2  id3858529          2 2016-01-19 11:35:24 2016-01-19 12:10:48   \n",
       "3  id3504673          2 2016-04-06 19:32:31 2016-04-06 19:39:40   \n",
       "4  id2181028          2 2016-03-26 13:30:55 2016-03-26 13:38:10   \n",
       "\n",
       "   passenger_count  pickup_longitude  pickup_latitude  dropoff_longitude  \\\n",
       "0                1           -73.982           40.768            -73.965   \n",
       "1                1           -73.980           40.739            -73.999   \n",
       "2                1           -73.979           40.764            -74.005   \n",
       "3                1           -74.010           40.720            -74.012   \n",
       "4                1           -73.973           40.793            -73.973   \n",
       "\n",
       "   dropoff_latitude store_and_fwd_flag        ...          avg_speed_m  \\\n",
       "0            40.766                  N        ...               13.731   \n",
       "1            40.731                  N        ...               13.197   \n",
       "2            40.710                  N        ...               13.904   \n",
       "3            40.707                  N        ...               13.941   \n",
       "4            40.783                  N        ...                9.927   \n",
       "\n",
       "   pickup_cluster  dropoff_cluster maximum temperature  minimum temperature  \\\n",
       "0              34               25                  51                   40   \n",
       "1              28               12                  83                   62   \n",
       "2              18                4                  28                   16   \n",
       "3              29                4                  48                   30   \n",
       "4              19               39                  55                   38   \n",
       "\n",
       "   average temperature  precipitation  snow fall  snow depth  \\\n",
       "0               45.500          0.290      0.000       0.000   \n",
       "1               72.500          0.000      0.000       0.000   \n",
       "2               22.000          0.000      0.000       0.000   \n",
       "3               39.000          0.000      0.000       0.000   \n",
       "4               46.500          0.000      0.000       0.000   \n",
       "\n",
       "   log_trip_duration  \n",
       "0              6.122  \n",
       "1              6.498  \n",
       "2              7.662  \n",
       "3              6.064  \n",
       "4              6.078  \n",
       "\n",
       "[5 rows x 29 columns]"
      ]
     },
     "execution_count": 30,
     "metadata": {},
     "output_type": "execute_result"
    }
   ],
   "source": [
    "train.loc[:, 'log_trip_duration'] = np.log(train['trip_duration'].values + 1)\n",
    "train.head()"
   ]
  },
  {
   "cell_type": "markdown",
   "metadata": {},
   "source": [
    "This shows that the trip durations are an approximate Gaussian distribution. Despite some outlier trips, most trips are e^4 = 1 minute to e^8 ~ 60 minutes."
   ]
  },
  {
   "cell_type": "markdown",
   "metadata": {},
   "source": [
    "### 3.2 Number of Trips Over Time\n",
    "We may also be interested in the number of trips over time, since this could reveal any seasonal trends of taxi trips in New York City. For example, taxi trips may be during Christmas holiday.\n",
    "\n",
    "We could simply plot a timeseries line graph of the dataset."
   ]
  },
  {
   "cell_type": "code",
   "execution_count": 31,
   "metadata": {},
   "outputs": [
    {
     "data": {
      "image/png": "[encoded data removed]",
      "text/plain": [
       "<matplotlib.figure.Figure at 0x1128b7e10>"
      ]
     },
     "metadata": {},
     "output_type": "display_data"
    }
   ],
   "source": [
    "# plt.rcParams['figure.figsize'] = [16, 10]\n",
    "plt.plot(train.groupby('date').count()[['id']], 'o-', label='train')\n",
    "plt.plot(test.groupby('date').count()[['id']], 'o-', label='test')\n",
    "plt.title('Number of Trips over Time')\n",
    "plt.ylabel('Number of Trips')\n",
    "plt.show()"
   ]
  },
  {
   "cell_type": "markdown",
   "metadata": {},
   "source": [
    "As expected, the training dataset and the test dataset behaves very similary. We can see that taxi trips are fairly consistent throughout the year, except for two serious drop in early Feb 2016 and June 2016. The drop in Feb 2016 is likely from the Taxi/Uber driver strike (https://nypost.com/2016/02/01/nyc-uber-drivers-urge-strikes-over-fare-cuts/). We could potentially remove that date's data to improve data quality."
   ]
  },
  {
   "cell_type": "markdown",
   "metadata": {},
   "source": [
    "Similarly, we could plot out the number of trips throughout the week. My expectation would be more trips over the weekdays and less on the weekends."
   ]
  },
  {
   "cell_type": "code",
   "execution_count": 32,
   "metadata": {},
   "outputs": [
    {
     "data": {
      "image/png": "[encoded data removed]",
      "text/plain": [
       "<matplotlib.figure.Figure at 0x1129bd1d0>"
      ]
     },
     "metadata": {},
     "output_type": "display_data"
    }
   ],
   "source": [
    "plt.plot(train.groupby('day_of_week').count()[['id']], 'o-', label='train')\n",
    "plt.plot(test.groupby('day_of_week').count()[['id']], 'o-', label='test')\n",
    "plt.title('Number of Trips over Week')\n",
    "plt.ylabel('Number of Trips')\n",
    "plt.xlabel('Days in Week')\n",
    "plt.show()"
   ]
  },
  {
   "cell_type": "markdown",
   "metadata": {},
   "source": [
    "The result is somewhat surprising to me because it turns out Monday (0) and Sunday(6) have the lowest number of taxi trips. It is understandable that Friday(4) has the most number since people usually go out on Friday night. But I'm not entirely sure why Monday also has the lowest number."
   ]
  },
  {
   "cell_type": "markdown",
   "metadata": {},
   "source": [
    "### 3.3 Average Speed Over Time\n",
    "In previous section, we calculated the rough estimate of average speed of each taxi trip. Now we can plot them over time to check how time affect the average travel speed."
   ]
  },
  {
   "cell_type": "code",
   "execution_count": 33,
   "metadata": {},
   "outputs": [
    {
     "data": {
      "image/png": "[encoded data removed]",
      "text/plain": [
       "<matplotlib.figure.Figure at 0x10f40d3c8>"
      ]
     },
     "metadata": {},
     "output_type": "display_data"
    }
   ],
   "source": [
    "fig, ax = plt.subplots(ncols=3, sharey=True)\n",
    "\n",
    "ax[0].plot(train.groupby('hour').mean()['avg_speed_h'], 'bo-', label='haversine', lw=2, alpha=0.7)\n",
    "ax[0].plot(train.groupby('hour').mean()['avg_speed_m'], 'ro-', label='manhattan', lw=2, alpha=0.7)\n",
    "ax[0].legend(loc='upper right')\n",
    "ax[1].plot(train.groupby('day_of_week').mean()['avg_speed_h'], 'bo-', label='haversine', lw=2, alpha=0.7)\n",
    "ax[1].plot(train.groupby('day_of_week').mean()['avg_speed_m'], 'ro-', label='manhattan', lw=2, alpha=0.7)\n",
    "ax[1].legend(loc='upper right')\n",
    "ax[2].plot(train.groupby('month').mean()['avg_speed_h'], 'bo-', label='haversine', lw=2, alpha=0.7)\n",
    "ax[2].plot(train.groupby('month').mean()['avg_speed_m'], 'ro-', label='manhattan', lw=2, alpha=0.7)\n",
    "ax[2].legend(loc='upper right')\n",
    "\n",
    "ax[0].set_ylabel('Average Speed')\n",
    "ax[0].set_xlabel('Hour of Day')\n",
    "ax[1].set_xlabel('Day of Week')\n",
    "ax[2].set_xlabel('Month of Year')\n",
    "fig.suptitle('Average Speed Over Time')\n",
    "plt.show()"
   ]
  },
  {
   "cell_type": "markdown",
   "metadata": {},
   "source": [
    "It is clear that the hour of day has the most impact on the speed of a taxi. During day time work hours, the average speed, especially in Manhattan, is a lot lower than midnight.\n",
    "The average speed over the days in a week also follows an expected trend. There are less traffic during the weekend, which leads to an increased speed.\n",
    "Lastly, the average speed by month also follows an interesting trend. Although the difference is minor, we can clearly see that taxi trips in June is somewhat slower than those in Januaray. One potential explanation could be that in winter people are less likely to go out and take taxi trips, making the traffic lighter in early months of the year."
   ]
  },
  {
   "cell_type": "markdown",
   "metadata": {},
   "source": [
    "### 3.4 Coordinate Mapping\n",
    "Each location is represented by a latitude and longitude, we can plot these points on a map.\n"
   ]
  },
  {
   "cell_type": "code",
   "execution_count": 34,
   "metadata": {},
   "outputs": [
    {
     "data": {
      "image/png": "[encoded data removed]",
      "text/plain": [
       "<matplotlib.figure.Figure at 0x10f44d128>"
      ]
     },
     "metadata": {},
     "output_type": "display_data"
    }
   ],
   "source": [
    "long_border = (-74.04, -73.75)\n",
    "lat_border = (40.63, 40.85)\n",
    "fig, ax = plt.subplots(ncols=2, sharex=True, sharey=True)\n",
    "ax[0].scatter(train['pickup_longitude'].values[:100000], train['pickup_latitude'].values[:100000], color='blue', s=1, label='train', alpha=0.05)\n",
    "ax[1].scatter(test['pickup_longitude'].values[:100000], test['pickup_latitude'].values[:100000], color='red', s=1, label='test', alpha=0.05)\n",
    "fig.suptitle('Train and test area complete overlap')\n",
    "ax[0].legend(loc=0)\n",
    "ax[0].set_ylabel('latitude')\n",
    "ax[0].set_xlabel('longitude')\n",
    "ax[1].set_xlabel('longitude')\n",
    "ax[1].legend(loc=0)\n",
    "plt.ylim(lat_border)\n",
    "plt.xlim(long_border)\n",
    "plt.show()"
   ]
  },
  {
   "cell_type": "markdown",
   "metadata": {},
   "source": [
    "### 3.5 Neighborhoods Visualization\n",
    "From previous section, we can plot out the different neighborhoods in NYC."
   ]
  },
  {
   "cell_type": "code",
   "execution_count": 35,
   "metadata": {},
   "outputs": [
    {
     "data": {
      "image/png": "[encoded data removed]",
      "text/plain": [
       "<matplotlib.figure.Figure at 0x10f41dc50>"
      ]
     },
     "metadata": {},
     "output_type": "display_data"
    }
   ],
   "source": [
    "fig, ax = plt.subplots(ncols=1, nrows=1)\n",
    "ax.scatter(train.pickup_longitude.values[:500000], train.pickup_latitude.values[:500000], s=10, lw=0,\n",
    "           c=train.pickup_cluster[:500000].values, cmap='autumn', alpha=0.2)\n",
    "ax.set_xlim(long_border)\n",
    "ax.set_ylim(lat_border)\n",
    "ax.set_xlabel('Longitude')\n",
    "ax.set_ylabel('Latitude')\n",
    "plt.show()"
   ]
  },
  {
   "cell_type": "code",
   "execution_count": 36,
   "metadata": {},
   "outputs": [
    {
     "data": {
      "text/html": [
       "<div>\n",
       "<style scoped>\n",
       "    .dataframe tbody tr th:only-of-type {\n",
       "        vertical-align: middle;\n",
       "    }\n",
       "\n",
       "    .dataframe tbody tr th {\n",
       "        vertical-align: top;\n",
       "    }\n",
       "\n",
       "    .dataframe thead th {\n",
       "        text-align: right;\n",
       "    }\n",
       "</style>\n",
       "<table border=\"1\" class=\"dataframe\">\n",
       "  <thead>\n",
       "    <tr style=\"text-align: right;\">\n",
       "      <th></th>\n",
       "      <th>id</th>\n",
       "      <th>vendor_id</th>\n",
       "      <th>pickup_datetime</th>\n",
       "      <th>dropoff_datetime</th>\n",
       "      <th>passenger_count</th>\n",
       "      <th>pickup_longitude</th>\n",
       "      <th>pickup_latitude</th>\n",
       "      <th>dropoff_longitude</th>\n",
       "      <th>dropoff_latitude</th>\n",
       "      <th>store_and_fwd_flag</th>\n",
       "      <th>...</th>\n",
       "      <th>avg_speed_m</th>\n",
       "      <th>pickup_cluster</th>\n",
       "      <th>dropoff_cluster</th>\n",
       "      <th>maximum temperature</th>\n",
       "      <th>minimum temperature</th>\n",
       "      <th>average temperature</th>\n",
       "      <th>precipitation</th>\n",
       "      <th>snow fall</th>\n",
       "      <th>snow depth</th>\n",
       "      <th>log_trip_duration</th>\n",
       "    </tr>\n",
       "  </thead>\n",
       "  <tbody>\n",
       "    <tr>\n",
       "      <th>0</th>\n",
       "      <td>id2875421</td>\n",
       "      <td>2</td>\n",
       "      <td>2016-03-14 17:24:55</td>\n",
       "      <td>2016-03-14 17:32:30</td>\n",
       "      <td>1</td>\n",
       "      <td>-73.982</td>\n",
       "      <td>40.768</td>\n",
       "      <td>-73.965</td>\n",
       "      <td>40.766</td>\n",
       "      <td>N</td>\n",
       "      <td>...</td>\n",
       "      <td>13.731</td>\n",
       "      <td>34</td>\n",
       "      <td>25</td>\n",
       "      <td>51</td>\n",
       "      <td>40</td>\n",
       "      <td>45.500</td>\n",
       "      <td>0.290</td>\n",
       "      <td>0.000</td>\n",
       "      <td>0.000</td>\n",
       "      <td>6.122</td>\n",
       "    </tr>\n",
       "    <tr>\n",
       "      <th>1</th>\n",
       "      <td>id2377394</td>\n",
       "      <td>1</td>\n",
       "      <td>2016-06-12 00:43:35</td>\n",
       "      <td>2016-06-12 00:54:38</td>\n",
       "      <td>1</td>\n",
       "      <td>-73.980</td>\n",
       "      <td>40.739</td>\n",
       "      <td>-73.999</td>\n",
       "      <td>40.731</td>\n",
       "      <td>N</td>\n",
       "      <td>...</td>\n",
       "      <td>13.197</td>\n",
       "      <td>28</td>\n",
       "      <td>12</td>\n",
       "      <td>83</td>\n",
       "      <td>62</td>\n",
       "      <td>72.500</td>\n",
       "      <td>0.000</td>\n",
       "      <td>0.000</td>\n",
       "      <td>0.000</td>\n",
       "      <td>6.498</td>\n",
       "    </tr>\n",
       "    <tr>\n",
       "      <th>2</th>\n",
       "      <td>id3858529</td>\n",
       "      <td>2</td>\n",
       "      <td>2016-01-19 11:35:24</td>\n",
       "      <td>2016-01-19 12:10:48</td>\n",
       "      <td>1</td>\n",
       "      <td>-73.979</td>\n",
       "      <td>40.764</td>\n",
       "      <td>-74.005</td>\n",
       "      <td>40.710</td>\n",
       "      <td>N</td>\n",
       "      <td>...</td>\n",
       "      <td>13.904</td>\n",
       "      <td>18</td>\n",
       "      <td>4</td>\n",
       "      <td>28</td>\n",
       "      <td>16</td>\n",
       "      <td>22.000</td>\n",
       "      <td>0.000</td>\n",
       "      <td>0.000</td>\n",
       "      <td>0.000</td>\n",
       "      <td>7.662</td>\n",
       "    </tr>\n",
       "    <tr>\n",
       "      <th>3</th>\n",
       "      <td>id3504673</td>\n",
       "      <td>2</td>\n",
       "      <td>2016-04-06 19:32:31</td>\n",
       "      <td>2016-04-06 19:39:40</td>\n",
       "      <td>1</td>\n",
       "      <td>-74.010</td>\n",
       "      <td>40.720</td>\n",
       "      <td>-74.012</td>\n",
       "      <td>40.707</td>\n",
       "      <td>N</td>\n",
       "      <td>...</td>\n",
       "      <td>13.941</td>\n",
       "      <td>29</td>\n",
       "      <td>4</td>\n",
       "      <td>48</td>\n",
       "      <td>30</td>\n",
       "      <td>39.000</td>\n",
       "      <td>0.000</td>\n",
       "      <td>0.000</td>\n",
       "      <td>0.000</td>\n",
       "      <td>6.064</td>\n",
       "    </tr>\n",
       "    <tr>\n",
       "      <th>4</th>\n",
       "      <td>id2181028</td>\n",
       "      <td>2</td>\n",
       "      <td>2016-03-26 13:30:55</td>\n",
       "      <td>2016-03-26 13:38:10</td>\n",
       "      <td>1</td>\n",
       "      <td>-73.973</td>\n",
       "      <td>40.793</td>\n",
       "      <td>-73.973</td>\n",
       "      <td>40.783</td>\n",
       "      <td>N</td>\n",
       "      <td>...</td>\n",
       "      <td>9.927</td>\n",
       "      <td>19</td>\n",
       "      <td>39</td>\n",
       "      <td>55</td>\n",
       "      <td>38</td>\n",
       "      <td>46.500</td>\n",
       "      <td>0.000</td>\n",
       "      <td>0.000</td>\n",
       "      <td>0.000</td>\n",
       "      <td>6.078</td>\n",
       "    </tr>\n",
       "  </tbody>\n",
       "</table>\n",
       "<p>5 rows × 29 columns</p>\n",
       "</div>"
      ],
      "text/plain": [
       "          id  vendor_id     pickup_datetime    dropoff_datetime  \\\n",
       "0  id2875421          2 2016-03-14 17:24:55 2016-03-14 17:32:30   \n",
       "1  id2377394          1 2016-06-12 00:43:35 2016-06-12 00:54:38   \n",
       "2  id3858529          2 2016-01-19 11:35:24 2016-01-19 12:10:48   \n",
       "3  id3504673          2 2016-04-06 19:32:31 2016-04-06 19:39:40   \n",
       "4  id2181028          2 2016-03-26 13:30:55 2016-03-26 13:38:10   \n",
       "\n",
       "   passenger_count  pickup_longitude  pickup_latitude  dropoff_longitude  \\\n",
       "0                1           -73.982           40.768            -73.965   \n",
       "1                1           -73.980           40.739            -73.999   \n",
       "2                1           -73.979           40.764            -74.005   \n",
       "3                1           -74.010           40.720            -74.012   \n",
       "4                1           -73.973           40.793            -73.973   \n",
       "\n",
       "   dropoff_latitude store_and_fwd_flag        ...          avg_speed_m  \\\n",
       "0            40.766                  N        ...               13.731   \n",
       "1            40.731                  N        ...               13.197   \n",
       "2            40.710                  N        ...               13.904   \n",
       "3            40.707                  N        ...               13.941   \n",
       "4            40.783                  N        ...                9.927   \n",
       "\n",
       "   pickup_cluster  dropoff_cluster maximum temperature  minimum temperature  \\\n",
       "0              34               25                  51                   40   \n",
       "1              28               12                  83                   62   \n",
       "2              18                4                  28                   16   \n",
       "3              29                4                  48                   30   \n",
       "4              19               39                  55                   38   \n",
       "\n",
       "   average temperature  precipitation  snow fall  snow depth  \\\n",
       "0               45.500          0.290      0.000       0.000   \n",
       "1               72.500          0.000      0.000       0.000   \n",
       "2               22.000          0.000      0.000       0.000   \n",
       "3               39.000          0.000      0.000       0.000   \n",
       "4               46.500          0.000      0.000       0.000   \n",
       "\n",
       "   log_trip_duration  \n",
       "0              6.122  \n",
       "1              6.498  \n",
       "2              7.662  \n",
       "3              6.064  \n",
       "4              6.078  \n",
       "\n",
       "[5 rows x 29 columns]"
      ]
     },
     "execution_count": 36,
     "metadata": {},
     "output_type": "execute_result"
    }
   ],
   "source": [
    "train.head()"
   ]
  },
  {
   "cell_type": "markdown",
   "metadata": {},
   "source": [
    "### 3.6 Weather Trend\n",
    "\n",
    "Here we plot out the temperature and precipitation of New York City in the first six months of 2016."
   ]
  },
  {
   "cell_type": "code",
   "execution_count": 37,
   "metadata": {},
   "outputs": [
    {
     "data": {
      "image/png": "[encoded data removed]",
      "text/plain": [
       "<matplotlib.figure.Figure at 0x1129948d0>"
      ]
     },
     "metadata": {},
     "output_type": "display_data"
    }
   ],
   "source": [
    "plt.plot(weather.groupby('date').mean()['minimum temperature'], 'b-', label='minimum temperature')\n",
    "plt.plot(weather.groupby('date').mean()['maximum temperature'], 'r-', label='maximum temperature')\n",
    "plt.title('Temperature Over Time')\n",
    "plt.ylabel('Temperature')\n",
    "plt.xlabel('Day in Year')\n",
    "plt.legend(loc='upper right')\n",
    "plt.show()"
   ]
  },
  {
   "cell_type": "markdown",
   "metadata": {},
   "source": [
    "## 4. Taxi Trip Duration Prediction\n",
    "In this section, I will attempt different approaches to predict the duration of each taxi trips given the pickup location, dropoff location and time."
   ]
  },
  {
   "cell_type": "code",
   "execution_count": 38,
   "metadata": {},
   "outputs": [],
   "source": [
    "import xgboost as xgb\n",
    "from sklearn.model_selection import train_test_split\n",
    "from sklearn.decomposition import PCA"
   ]
  },
  {
   "cell_type": "markdown",
   "metadata": {},
   "source": [
    "### 4.1 Create Dummy Variable\n",
    "We use one hot encoding to change categorical data such as `pickup_cluster`, `dropoff_cluster`, `passenger_count`, `vendor_id` into indicator variables. "
   ]
  },
  {
   "cell_type": "code",
   "execution_count": 39,
   "metadata": {},
   "outputs": [],
   "source": [
    "vendor_train = pd.get_dummies(train['vendor_id'], prefix='vi', prefix_sep='_')\n",
    "vendor_test = pd.get_dummies(test['vendor_id'], prefix='vi', prefix_sep='_')\n",
    "passenger_count_train = pd.get_dummies(train['passenger_count'], prefix='pc', prefix_sep='_')\n",
    "passenger_count_test = pd.get_dummies(test['passenger_count'], prefix='pc', prefix_sep='_')\n",
    "store_and_fwd_flag_train = pd.get_dummies(train['store_and_fwd_flag'], prefix='sf', prefix_sep='_')\n",
    "store_and_fwd_flag_test = pd.get_dummies(test['store_and_fwd_flag'], prefix='sf', prefix_sep='_')\n",
    "cluster_pickup_train = pd.get_dummies(train['pickup_cluster'], prefix='p', prefix_sep='_')\n",
    "cluster_pickup_test = pd.get_dummies(test['pickup_cluster'], prefix='p', prefix_sep='_')\n",
    "cluster_dropoff_train = pd.get_dummies(train['dropoff_cluster'], prefix='d', prefix_sep='_')\n",
    "cluster_dropoff_test = pd.get_dummies(test['dropoff_cluster'], prefix='d', prefix_sep='_')\n",
    "\n",
    "month_train = pd.get_dummies(train['month'], prefix='m', prefix_sep='_')\n",
    "month_test = pd.get_dummies(test['month'], prefix='m', prefix_sep='_')\n",
    "dom_train = pd.get_dummies(train['day_of_month'], prefix='dom', prefix_sep='_')\n",
    "dom_test = pd.get_dummies(test['day_of_month'], prefix='dom', prefix_sep='_')\n",
    "hour_train = pd.get_dummies(train['hour'], prefix='h', prefix_sep='_')\n",
    "hour_test = pd.get_dummies(test['hour'], prefix='h', prefix_sep='_')\n",
    "dow_train = pd.get_dummies(train['day_of_week'], prefix='dow', prefix_sep='_')\n",
    "dow_test = pd.get_dummies(test['day_of_week'], prefix='dow', prefix_sep='_')"
   ]
  },
  {
   "cell_type": "code",
   "execution_count": 40,
   "metadata": {},
   "outputs": [
    {
     "data": {
      "text/plain": [
       "((1437693, 2), (625134, 2))"
      ]
     },
     "execution_count": 40,
     "metadata": {},
     "output_type": "execute_result"
    }
   ],
   "source": [
    "vendor_train.shape, vendor_test.shape"
   ]
  },
  {
   "cell_type": "code",
   "execution_count": 41,
   "metadata": {},
   "outputs": [
    {
     "data": {
      "text/plain": [
       "((1437693, 8), (625134, 8))"
      ]
     },
     "execution_count": 41,
     "metadata": {},
     "output_type": "execute_result"
    }
   ],
   "source": [
    "passenger_count_train.shape, passenger_count_test.shape"
   ]
  },
  {
   "cell_type": "code",
   "execution_count": 42,
   "metadata": {},
   "outputs": [
    {
     "data": {
      "text/plain": [
       "((1437693, 2), (625134, 2))"
      ]
     },
     "execution_count": 42,
     "metadata": {},
     "output_type": "execute_result"
    }
   ],
   "source": [
    "store_and_fwd_flag_train.shape, store_and_fwd_flag_test.shape"
   ]
  },
  {
   "cell_type": "code",
   "execution_count": 43,
   "metadata": {},
   "outputs": [
    {
     "data": {
      "text/plain": [
       "((1437693, 50), (625134, 50))"
      ]
     },
     "execution_count": 43,
     "metadata": {},
     "output_type": "execute_result"
    }
   ],
   "source": [
    "cluster_pickup_train.shape, cluster_pickup_test.shape"
   ]
  },
  {
   "cell_type": "code",
   "execution_count": 44,
   "metadata": {},
   "outputs": [
    {
     "data": {
      "text/plain": [
       "((1437693, 50), (625134, 50))"
      ]
     },
     "execution_count": 44,
     "metadata": {},
     "output_type": "execute_result"
    }
   ],
   "source": [
    "cluster_dropoff_train.shape, cluster_dropoff_test.shape"
   ]
  },
  {
   "cell_type": "code",
   "execution_count": 45,
   "metadata": {},
   "outputs": [
    {
     "data": {
      "text/plain": [
       "((1437693, 6), (625134, 6))"
      ]
     },
     "execution_count": 45,
     "metadata": {},
     "output_type": "execute_result"
    }
   ],
   "source": [
    "month_train.shape, month_test.shape"
   ]
  },
  {
   "cell_type": "code",
   "execution_count": 46,
   "metadata": {},
   "outputs": [
    {
     "data": {
      "text/plain": [
       "((1437693, 31), (625134, 31))"
      ]
     },
     "execution_count": 46,
     "metadata": {},
     "output_type": "execute_result"
    }
   ],
   "source": [
    "dom_train.shape, dom_test.shape"
   ]
  },
  {
   "cell_type": "code",
   "execution_count": 47,
   "metadata": {},
   "outputs": [
    {
     "data": {
      "text/plain": [
       "((1437693, 24), (625134, 24))"
      ]
     },
     "execution_count": 47,
     "metadata": {},
     "output_type": "execute_result"
    }
   ],
   "source": [
    "hour_train.shape, hour_test.shape"
   ]
  },
  {
   "cell_type": "code",
   "execution_count": 48,
   "metadata": {},
   "outputs": [
    {
     "data": {
      "text/plain": [
       "((1437693, 7), (1437693, 7))"
      ]
     },
     "execution_count": 48,
     "metadata": {},
     "output_type": "execute_result"
    }
   ],
   "source": [
    "dow_train.shape, dow_train.shape"
   ]
  },
  {
   "cell_type": "code",
   "execution_count": 49,
   "metadata": {},
   "outputs": [],
   "source": [
    "passenger_count_test = passenger_count_test.drop(['pc_9'], axis=1)"
   ]
  },
  {
   "cell_type": "code",
   "execution_count": 50,
   "metadata": {},
   "outputs": [],
   "source": [
    "passenger_count_train = passenger_count_train.drop(['pc_7'], axis = 1)"
   ]
  },
  {
   "cell_type": "markdown",
   "metadata": {},
   "source": [
    "Before we can combine all the dummy variables with the continuous variables from the origian dataset to create our training dataset, we need to drop all the categorical variables from the original training dataset."
   ]
  },
  {
   "cell_type": "code",
   "execution_count": 51,
   "metadata": {},
   "outputs": [],
   "source": [
    "train = train.drop(['id', 'vendor_id', 'passenger_count', 'store_and_fwd_flag', 'month', 'day_of_month', \n",
    "                    'hour', 'day_of_week'], axis = 1)\n",
    "test_ids = test['id']\n",
    "test = test.drop(['id', 'vendor_id', 'passenger_count', 'store_and_fwd_flag', 'month', 'day_of_month', \n",
    "                  'hour', 'day_of_week'], axis = 1)"
   ]
  },
  {
   "cell_type": "code",
   "execution_count": 52,
   "metadata": {},
   "outputs": [],
   "source": [
    "train = train.drop(['dropoff_datetime', 'avg_speed_h', 'avg_speed_m', 'trip_duration'], axis=1)"
   ]
  },
  {
   "cell_type": "code",
   "execution_count": 53,
   "metadata": {},
   "outputs": [
    {
     "data": {
      "text/plain": [
       "((1437693, 17), (625134, 16))"
      ]
     },
     "execution_count": 53,
     "metadata": {},
     "output_type": "execute_result"
    }
   ],
   "source": [
    "train.shape, test.shape"
   ]
  },
  {
   "cell_type": "code",
   "execution_count": 54,
   "metadata": {},
   "outputs": [
    {
     "data": {
      "text/html": [
       "<div>\n",
       "<style scoped>\n",
       "    .dataframe tbody tr th:only-of-type {\n",
       "        vertical-align: middle;\n",
       "    }\n",
       "\n",
       "    .dataframe tbody tr th {\n",
       "        vertical-align: top;\n",
       "    }\n",
       "\n",
       "    .dataframe thead th {\n",
       "        text-align: right;\n",
       "    }\n",
       "</style>\n",
       "<table border=\"1\" class=\"dataframe\">\n",
       "  <thead>\n",
       "    <tr style=\"text-align: right;\">\n",
       "      <th></th>\n",
       "      <th>pickup_datetime</th>\n",
       "      <th>pickup_longitude</th>\n",
       "      <th>pickup_latitude</th>\n",
       "      <th>dropoff_longitude</th>\n",
       "      <th>dropoff_latitude</th>\n",
       "      <th>date</th>\n",
       "      <th>haversine_dist</th>\n",
       "      <th>manhattan_dist</th>\n",
       "      <th>pickup_cluster</th>\n",
       "      <th>dropoff_cluster</th>\n",
       "      <th>maximum temperature</th>\n",
       "      <th>minimum temperature</th>\n",
       "      <th>average temperature</th>\n",
       "      <th>precipitation</th>\n",
       "      <th>snow fall</th>\n",
       "      <th>snow depth</th>\n",
       "      <th>log_trip_duration</th>\n",
       "    </tr>\n",
       "  </thead>\n",
       "  <tbody>\n",
       "    <tr>\n",
       "      <th>0</th>\n",
       "      <td>2016-03-14 17:24:55</td>\n",
       "      <td>-73.982</td>\n",
       "      <td>40.768</td>\n",
       "      <td>-73.965</td>\n",
       "      <td>40.766</td>\n",
       "      <td>2016-03-14</td>\n",
       "      <td>1.499</td>\n",
       "      <td>1.735</td>\n",
       "      <td>34</td>\n",
       "      <td>25</td>\n",
       "      <td>51</td>\n",
       "      <td>40</td>\n",
       "      <td>45.500</td>\n",
       "      <td>0.290</td>\n",
       "      <td>0.000</td>\n",
       "      <td>0.000</td>\n",
       "      <td>6.122</td>\n",
       "    </tr>\n",
       "    <tr>\n",
       "      <th>1</th>\n",
       "      <td>2016-06-12 00:43:35</td>\n",
       "      <td>-73.980</td>\n",
       "      <td>40.739</td>\n",
       "      <td>-73.999</td>\n",
       "      <td>40.731</td>\n",
       "      <td>2016-06-12</td>\n",
       "      <td>1.806</td>\n",
       "      <td>2.431</td>\n",
       "      <td>28</td>\n",
       "      <td>12</td>\n",
       "      <td>83</td>\n",
       "      <td>62</td>\n",
       "      <td>72.500</td>\n",
       "      <td>0.000</td>\n",
       "      <td>0.000</td>\n",
       "      <td>0.000</td>\n",
       "      <td>6.498</td>\n",
       "    </tr>\n",
       "    <tr>\n",
       "      <th>2</th>\n",
       "      <td>2016-01-19 11:35:24</td>\n",
       "      <td>-73.979</td>\n",
       "      <td>40.764</td>\n",
       "      <td>-74.005</td>\n",
       "      <td>40.710</td>\n",
       "      <td>2016-01-19</td>\n",
       "      <td>6.385</td>\n",
       "      <td>8.204</td>\n",
       "      <td>18</td>\n",
       "      <td>4</td>\n",
       "      <td>28</td>\n",
       "      <td>16</td>\n",
       "      <td>22.000</td>\n",
       "      <td>0.000</td>\n",
       "      <td>0.000</td>\n",
       "      <td>0.000</td>\n",
       "      <td>7.662</td>\n",
       "    </tr>\n",
       "    <tr>\n",
       "      <th>3</th>\n",
       "      <td>2016-04-06 19:32:31</td>\n",
       "      <td>-74.010</td>\n",
       "      <td>40.720</td>\n",
       "      <td>-74.012</td>\n",
       "      <td>40.707</td>\n",
       "      <td>2016-04-06</td>\n",
       "      <td>1.485</td>\n",
       "      <td>1.661</td>\n",
       "      <td>29</td>\n",
       "      <td>4</td>\n",
       "      <td>48</td>\n",
       "      <td>30</td>\n",
       "      <td>39.000</td>\n",
       "      <td>0.000</td>\n",
       "      <td>0.000</td>\n",
       "      <td>0.000</td>\n",
       "      <td>6.064</td>\n",
       "    </tr>\n",
       "    <tr>\n",
       "      <th>4</th>\n",
       "      <td>2016-03-26 13:30:55</td>\n",
       "      <td>-73.973</td>\n",
       "      <td>40.793</td>\n",
       "      <td>-73.973</td>\n",
       "      <td>40.783</td>\n",
       "      <td>2016-03-26</td>\n",
       "      <td>1.189</td>\n",
       "      <td>1.199</td>\n",
       "      <td>19</td>\n",
       "      <td>39</td>\n",
       "      <td>55</td>\n",
       "      <td>38</td>\n",
       "      <td>46.500</td>\n",
       "      <td>0.000</td>\n",
       "      <td>0.000</td>\n",
       "      <td>0.000</td>\n",
       "      <td>6.078</td>\n",
       "    </tr>\n",
       "  </tbody>\n",
       "</table>\n",
       "</div>"
      ],
      "text/plain": [
       "      pickup_datetime  pickup_longitude  pickup_latitude  dropoff_longitude  \\\n",
       "0 2016-03-14 17:24:55           -73.982           40.768            -73.965   \n",
       "1 2016-06-12 00:43:35           -73.980           40.739            -73.999   \n",
       "2 2016-01-19 11:35:24           -73.979           40.764            -74.005   \n",
       "3 2016-04-06 19:32:31           -74.010           40.720            -74.012   \n",
       "4 2016-03-26 13:30:55           -73.973           40.793            -73.973   \n",
       "\n",
       "   dropoff_latitude       date  haversine_dist  manhattan_dist  \\\n",
       "0            40.766 2016-03-14           1.499           1.735   \n",
       "1            40.731 2016-06-12           1.806           2.431   \n",
       "2            40.710 2016-01-19           6.385           8.204   \n",
       "3            40.707 2016-04-06           1.485           1.661   \n",
       "4            40.783 2016-03-26           1.189           1.199   \n",
       "\n",
       "   pickup_cluster  dropoff_cluster  maximum temperature  minimum temperature  \\\n",
       "0              34               25                   51                   40   \n",
       "1              28               12                   83                   62   \n",
       "2              18                4                   28                   16   \n",
       "3              29                4                   48                   30   \n",
       "4              19               39                   55                   38   \n",
       "\n",
       "   average temperature  precipitation  snow fall  snow depth  \\\n",
       "0               45.500          0.290      0.000       0.000   \n",
       "1               72.500          0.000      0.000       0.000   \n",
       "2               22.000          0.000      0.000       0.000   \n",
       "3               39.000          0.000      0.000       0.000   \n",
       "4               46.500          0.000      0.000       0.000   \n",
       "\n",
       "   log_trip_duration  \n",
       "0              6.122  \n",
       "1              6.498  \n",
       "2              7.662  \n",
       "3              6.064  \n",
       "4              6.078  "
      ]
     },
     "execution_count": 54,
     "metadata": {},
     "output_type": "execute_result"
    }
   ],
   "source": [
    "train.head()"
   ]
  },
  {
   "cell_type": "code",
   "execution_count": 55,
   "metadata": {},
   "outputs": [
    {
     "data": {
      "text/plain": [
       "((1437693, 14), (625134, 13))"
      ]
     },
     "execution_count": 55,
     "metadata": {},
     "output_type": "execute_result"
    }
   ],
   "source": [
    "train = train.drop(['pickup_datetime', 'date', 'snow depth'], axis=1)\n",
    "test = test.drop(['pickup_datetime', 'date', 'snow depth'], axis=1)\n",
    "train.shape, test.shape"
   ]
  },
  {
   "cell_type": "code",
   "execution_count": 56,
   "metadata": {},
   "outputs": [],
   "source": [
    "train_master = pd.concat([train, \n",
    "                          vendor_train, \n",
    "                          passenger_count_train, \n",
    "                          store_and_fwd_flag_train,\n",
    "                          cluster_pickup_train,\n",
    "                          cluster_dropoff_train,\n",
    "                          month_train,\n",
    "                          dom_train,\n",
    "                          hour_train,\n",
    "                          dow_train\n",
    "                         ], axis=1)"
   ]
  },
  {
   "cell_type": "code",
   "execution_count": 57,
   "metadata": {},
   "outputs": [],
   "source": [
    "test_master = pd.concat([test, \n",
    "                          vendor_test, \n",
    "                          passenger_count_test, \n",
    "                          store_and_fwd_flag_test,\n",
    "                          cluster_pickup_test,\n",
    "                          cluster_dropoff_test,\n",
    "                          month_test,\n",
    "                          dom_test,\n",
    "                          hour_test,\n",
    "                          dow_test\n",
    "                         ], axis=1)"
   ]
  },
  {
   "cell_type": "code",
   "execution_count": 58,
   "metadata": {},
   "outputs": [
    {
     "data": {
      "text/plain": [
       "((1437693, 193), (625134, 192))"
      ]
     },
     "execution_count": 58,
     "metadata": {},
     "output_type": "execute_result"
    }
   ],
   "source": [
    "train_master.shape, test_master.shape"
   ]
  },
  {
   "cell_type": "markdown",
   "metadata": {},
   "source": [
    "### 4.2 Create a Train Test split among the training dataset\n",
    "Train test split."
   ]
  },
  {
   "cell_type": "code",
   "execution_count": 59,
   "metadata": {},
   "outputs": [],
   "source": [
    "Train, Test = train_test_split(train_master[0:100000], test_size = 0.2)"
   ]
  },
  {
   "cell_type": "code",
   "execution_count": 60,
   "metadata": {},
   "outputs": [],
   "source": [
    "X_train = Train.drop(['log_trip_duration'], axis = 1)\n",
    "y_train = Train['log_trip_duration']\n",
    "X_test = Test.drop(['log_trip_duration'], axis = 1)\n",
    "y_test = Test['log_trip_duration']\n",
    "\n",
    "y_test = y_test.reset_index().drop('index', axis = 1)\n",
    "y_train = y_train.reset_index().drop('index', axis = 1)"
   ]
  },
  {
   "cell_type": "markdown",
   "metadata": {},
   "source": [
    "Create XGBoost matrice that will be used to train the model using XGBoost. "
   ]
  },
  {
   "cell_type": "code",
   "execution_count": 61,
   "metadata": {},
   "outputs": [],
   "source": [
    "dtrain = xgb.DMatrix(X_train, label=y_train)\n",
    "dvalid = xgb.DMatrix(X_test, label=y_test)\n",
    "dtest = xgb.DMatrix(test_master)\n",
    "watchlist = [(dtrain, 'train'), (dvalid, 'valid')]"
   ]
  },
  {
   "cell_type": "markdown",
   "metadata": {},
   "source": [
    "### 4.3 XGBoost - Training the Model and Testing the Accuracy\n",
    "First we need to set the parameters for XGBoost. There are a three different setting parameters: general parameters, booster parameters, and task parameters."
   ]
  },
  {
   "cell_type": "code",
   "execution_count": 62,
   "metadata": {},
   "outputs": [],
   "source": [
    "# md = [6]\n",
    "# lr = [0.1, 0.3]\n",
    "# mcw = [20, 25, 30]\n",
    "# for m in md:\n",
    "#     for l in lr:\n",
    "#         for n in mcw:\n",
    "#             xgb_pars = {\n",
    "#                 'min_child_weight': n, \n",
    "#                 'eta': l, \n",
    "#                 'colsample_bytree': 0.9, \n",
    "#                 'max_depth': m,\n",
    "#                 'subsample': 0.9,\n",
    "#                 'lambda': 1.,\n",
    "#                 'nthread': -1, \n",
    "#                 'booster': 'gbtree',\n",
    "#                 'silent': 1,\n",
    "#                 'eval_metric': 'rmse',\n",
    "#                 'objective': 'reg:linear'\n",
    "#                        }\n",
    "#             model = xgb.train(xgb_pars, dtrain, 50, watchlist, early_stopping_rounds=10, verbose_eval=1)\n",
    "#             print('m, l, n: ', m, l, n)"
   ]
  },
  {
   "cell_type": "markdown",
   "metadata": {},
   "source": [
    "The best parameters are m = 6, l = 0.3, n = 30"
   ]
  },
  {
   "cell_type": "code",
   "execution_count": 63,
   "metadata": {},
   "outputs": [
    {
     "name": "stdout",
     "output_type": "stream",
     "text": [
      "[0]\ttrain-rmse:4.21176\tvalid-rmse:4.2126\n",
      "Multiple eval metrics have been passed: 'valid-rmse' will be used for early stopping.\n",
      "\n",
      "Will train until valid-rmse hasn't improved in 10 rounds.\n",
      "[1]\ttrain-rmse:2.96616\tvalid-rmse:2.96783\n",
      "[2]\ttrain-rmse:2.10079\tvalid-rmse:2.10317\n",
      "[3]\ttrain-rmse:1.50367\tvalid-rmse:1.50706\n",
      "[4]\ttrain-rmse:1.09774\tvalid-rmse:1.10205\n",
      "[5]\ttrain-rmse:0.827971\tvalid-rmse:0.833391\n",
      "[6]\ttrain-rmse:0.654573\tvalid-rmse:0.661514\n",
      "[7]\ttrain-rmse:0.549003\tvalid-rmse:0.556934\n",
      "[8]\ttrain-rmse:0.488075\tvalid-rmse:0.496596\n",
      "[9]\ttrain-rmse:0.453651\tvalid-rmse:0.462725\n",
      "[10]\ttrain-rmse:0.433834\tvalid-rmse:0.443696\n",
      "[11]\ttrain-rmse:0.422444\tvalid-rmse:0.432643\n",
      "[12]\ttrain-rmse:0.415425\tvalid-rmse:0.426017\n",
      "[13]\ttrain-rmse:0.411215\tvalid-rmse:0.421904\n",
      "[14]\ttrain-rmse:0.406841\tvalid-rmse:0.417573\n",
      "[15]\ttrain-rmse:0.404264\tvalid-rmse:0.415305\n",
      "[16]\ttrain-rmse:0.401668\tvalid-rmse:0.41313\n",
      "[17]\ttrain-rmse:0.399661\tvalid-rmse:0.411755\n",
      "[18]\ttrain-rmse:0.398236\tvalid-rmse:0.41046\n",
      "[19]\ttrain-rmse:0.396792\tvalid-rmse:0.409335\n",
      "[20]\ttrain-rmse:0.394539\tvalid-rmse:0.407686\n",
      "[21]\ttrain-rmse:0.39308\tvalid-rmse:0.406693\n",
      "[22]\ttrain-rmse:0.391118\tvalid-rmse:0.405186\n",
      "[23]\ttrain-rmse:0.389815\tvalid-rmse:0.404611\n",
      "[24]\ttrain-rmse:0.388564\tvalid-rmse:0.403763\n",
      "[25]\ttrain-rmse:0.387344\tvalid-rmse:0.403279\n",
      "[26]\ttrain-rmse:0.385953\tvalid-rmse:0.402681\n",
      "[27]\ttrain-rmse:0.384141\tvalid-rmse:0.401903\n",
      "[28]\ttrain-rmse:0.382942\tvalid-rmse:0.400832\n",
      "[29]\ttrain-rmse:0.381884\tvalid-rmse:0.400302\n",
      "[30]\ttrain-rmse:0.381251\tvalid-rmse:0.399866\n",
      "[31]\ttrain-rmse:0.380444\tvalid-rmse:0.399277\n",
      "[32]\ttrain-rmse:0.379531\tvalid-rmse:0.398661\n",
      "[33]\ttrain-rmse:0.378522\tvalid-rmse:0.398563\n",
      "[34]\ttrain-rmse:0.377301\tvalid-rmse:0.399239\n",
      "[35]\ttrain-rmse:0.376523\tvalid-rmse:0.39871\n",
      "[36]\ttrain-rmse:0.375369\tvalid-rmse:0.398014\n",
      "[37]\ttrain-rmse:0.374128\tvalid-rmse:0.397612\n",
      "[38]\ttrain-rmse:0.373586\tvalid-rmse:0.397348\n",
      "[39]\ttrain-rmse:0.372747\tvalid-rmse:0.397245\n",
      "[40]\ttrain-rmse:0.371805\tvalid-rmse:0.39687\n",
      "[41]\ttrain-rmse:0.371027\tvalid-rmse:0.397314\n",
      "[42]\ttrain-rmse:0.3704\tvalid-rmse:0.397196\n",
      "[43]\ttrain-rmse:0.369335\tvalid-rmse:0.397473\n",
      "[44]\ttrain-rmse:0.368319\tvalid-rmse:0.396848\n",
      "[45]\ttrain-rmse:0.367501\tvalid-rmse:0.396327\n",
      "[46]\ttrain-rmse:0.366768\tvalid-rmse:0.395857\n",
      "[47]\ttrain-rmse:0.365965\tvalid-rmse:0.395315\n",
      "[48]\ttrain-rmse:0.364703\tvalid-rmse:0.394647\n",
      "[49]\ttrain-rmse:0.364113\tvalid-rmse:0.394352\n"
     ]
    }
   ],
   "source": [
    "xgb_pars = {\n",
    "            'min_child_weight': 30, \n",
    "            'eta': 0.3, \n",
    "            'colsample_bytree': 0.9, \n",
    "            'max_depth': 6,\n",
    "            'subsample': 0.9,\n",
    "            'lambda': 1.,\n",
    "            'nthread': -1, \n",
    "            'booster': 'gbtree',\n",
    "            'silent': 1,\n",
    "            'eval_metric': 'rmse',\n",
    "            'objective': 'reg:linear'\n",
    "           }\n",
    "model = xgb.train(xgb_pars, dtrain, 50, watchlist, early_stopping_rounds=10, verbose_eval=1)"
   ]
  },
  {
   "cell_type": "code",
   "execution_count": 68,
   "metadata": {},
   "outputs": [
    {
     "data": {
      "text/plain": [
       "<matplotlib.axes._subplots.AxesSubplot at 0x1a1ef33b70>"
      ]
     },
     "execution_count": 68,
     "metadata": {},
     "output_type": "execute_result"
    },
    {
     "data": {
      "image/png": "[encoded data removed]",
      "text/plain": [
       "<matplotlib.figure.Figure at 0x1a32bb7780>"
      ]
     },
     "metadata": {},
     "output_type": "display_data"
    }
   ],
   "source": [
    "plt.rcParams['figure.figsize'] = [10, 15]\n",
    "xgb.plot_importance(model, max_num_features=25, height=0.7)"
   ]
  },
  {
   "cell_type": "code",
   "execution_count": 65,
   "metadata": {},
   "outputs": [],
   "source": [
    "pred = model.predict(dtest)\n",
    "pred = np.exp(pred) -1"
   ]
  },
  {
   "cell_type": "code",
   "execution_count": 66,
   "metadata": {},
   "outputs": [],
   "source": [
    "submission = pd.concat([test_ids, pd.DataFrame(pred)], axis=1)\n",
    "submission.columns = ['id', 'trip_duration']\n",
    "submission['trip_duration'] = submission.apply(lambda x : 1 if (x['trip_duration'] <= 0) else x['trip_duration'], axis=1)\n",
    "submission.to_csv(\"submission.csv\", index=False)"
   ]
  },
  {
   "cell_type": "code",
   "execution_count": null,
   "metadata": {},
   "outputs": [],
   "source": []
  }
 ],
 "metadata": {
  "anaconda-cloud": {},
  "kernelspec": {
   "display_name": "Python 3",
   "language": "python",
   "name": "python3"
  },
  "language_info": {
   "codemirror_mode": {
    "name": "ipython",
    "version": 3
   },
   "file_extension": ".py",
   "mimetype": "text/x-python",
   "name": "python",
   "nbconvert_exporter": "python",
   "pygments_lexer": "ipython3",
   "version": "3.6.2"
  }
 },
 "nbformat": 4,
 "nbformat_minor": 2
}
